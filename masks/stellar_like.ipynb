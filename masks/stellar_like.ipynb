{
 "cells": [
  {
   "cell_type": "code",
   "execution_count": 2,
   "metadata": {},
   "outputs": [
    {
     "name": "stdout",
     "output_type": "stream",
     "text": [
      "Populating the interactive namespace from numpy and matplotlib\n"
     ]
    }
   ],
   "source": [
    "%pylab inline"
   ]
  },
  {
   "cell_type": "code",
   "execution_count": 47,
   "metadata": {},
   "outputs": [],
   "source": [
    "fin = np.fromfile(\"../build_2d/mask2.dat\")\n",
    "fwind = fin.reshape([512,512])\n",
    "N=512"
   ]
  },
  {
   "cell_type": "code",
   "execution_count": 40,
   "metadata": {},
   "outputs": [],
   "source": [
    "def circle_out(x,y,r,array,new_val=0):\n",
    "    for i,row in enumerate(array):\n",
    "        for j,_ in enumerate(row):\n",
    "            dx = x-i\n",
    "            dy = y-j\n",
    "            if dx**2+dy**2<r**2:\n",
    "                \n",
    "                array[i,j]=new_val\n",
    "    return array"
   ]
  },
  {
   "cell_type": "code",
   "execution_count": 50,
   "metadata": {},
   "outputs": [],
   "source": [
    "n = 20\n",
    "x_array = np.random.rand(n)*N\n",
    "y_array = np.random.rand(n)*N\n",
    "size_list = [3,3,3,5,5,5,10,10,10,15,5,5,5,5,5,5,10,22,26,22]\n",
    "array_out = fwind\n",
    "for i,x in enumerate(x_array):\n",
    "    array_out = circle_out(x,y_array[i],size_list[i],array_out)\n",
    "        \n"
   ]
  },
  {
   "cell_type": "code",
   "execution_count": 51,
   "metadata": {},
   "outputs": [
    {
     "data": {
      "text/plain": [
       "<matplotlib.image.AxesImage at 0x2baa96acebe0>"
      ]
     },
     "execution_count": 51,
     "metadata": {},
     "output_type": "execute_result"
    },
    {
     "data": {
      "image/png": "[encoded data removed]",
      "text/plain": [
       "<matplotlib.figure.Figure at 0x2baa969dfd68>"
      ]
     },
     "metadata": {},
     "output_type": "display_data"
    }
   ],
   "source": [
    "imshow(array_out)"
   ]
  },
  {
   "cell_type": "code",
   "execution_count": 52,
   "metadata": {},
   "outputs": [],
   "source": [
    "from copy import deepcopy\n",
    "array_semi = deepcopy(array_out)"
   ]
  },
  {
   "cell_type": "code",
   "execution_count": 75,
   "metadata": {},
   "outputs": [
    {
     "data": {
      "text/plain": [
       "<matplotlib.image.AxesImage at 0x2baa976e8e10>"
      ]
     },
     "execution_count": 75,
     "metadata": {},
     "output_type": "execute_result"
    },
    {
     "data": {
      "image/png": "[encoded data removed]",
      "text/plain": [
       "<matplotlib.figure.Figure at 0x2baa971ed278>"
      ]
     },
     "metadata": {},
     "output_type": "display_data"
    }
   ],
   "source": [
    "array_semi = deepcopy(array_out)\n",
    "array_semi[440-4:440+3,:] = 0 #star\n",
    "array_semi[350:500,230:235] = 0 #star\n",
    "\n",
    "\n",
    "array_semi[290-4:290+1,:250] = 0 #star\n",
    "\n",
    "array_semi[100:200,190:195] = 0 #centerpost\n",
    "\n",
    "array_semi[300:400,440:445] = 0 #centerpost\n",
    "\n",
    "\n",
    "imshow(array_semi)"
   ]
  },
  {
   "cell_type": "code",
   "execution_count": 76,
   "metadata": {},
   "outputs": [],
   "source": [
    "array_semi.tofile(\"mask_star512.txt\",format=\"f8\")"
   ]
  },
  {
   "cell_type": "code",
   "execution_count": null,
   "metadata": {},
   "outputs": [],
   "source": []
  }
 ],
 "metadata": {
  "kernelspec": {
   "display_name": "Python [default]",
   "language": "python",
   "name": "python3"
  },
  "language_info": {
   "codemirror_mode": {
    "name": "ipython",
    "version": 3
   },
   "file_extension": ".py",
   "mimetype": "text/x-python",
   "name": "python",
   "nbconvert_exporter": "python",
   "pygments_lexer": "ipython3",
   "version": "3.6.1"
  }
 },
 "nbformat": 4,
 "nbformat_minor": 2
}
