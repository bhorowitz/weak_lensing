{
 "cells": [
  {
   "cell_type": "markdown",
   "metadata": {},
   "source": [
    "$\\gamma_1(k) = \\delta(k)\\cos(2\\phi_k)$\n",
    "\n",
    "$\\gamma_2(k) = \\delta(k)\\sin(2\\phi_k)$\n",
    "\n",
    "$\\gamma_1(x) = e^{ikx}\\gamma_1(k)$\n",
    "\n",
    "$\\gamma_2(x) = e^{ikx}\\gamma_2(k)$\n",
    "\n",
    "$\\gamma_1(x_1)\\gamma_2(x_2) = e^{ik(x_1-x_2)}\\gamma_1(k)\\gamma^*_2(k)$"
   ]
  },
  {
   "cell_type": "code",
   "execution_count": null,
   "metadata": {
    "collapsed": true
   },
   "outputs": [],
   "source": []
  }
 ],
 "metadata": {
  "kernelspec": {
   "display_name": "Python 2",
   "language": "python",
   "name": "python2"
  },
  "language_info": {
   "codemirror_mode": {
    "name": "ipython",
    "version": 2
   },
   "file_extension": ".py",
   "mimetype": "text/x-python",
   "name": "python",
   "nbconvert_exporter": "python",
   "pygments_lexer": "ipython2",
   "version": "2.7.11"
  }
 },
 "nbformat": 4,
 "nbformat_minor": 0
}
