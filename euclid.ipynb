{
 "cells": [
  {
   "cell_type": "code",
   "execution_count": 1,
   "metadata": {},
   "outputs": [
    {
     "name": "stdout",
     "output_type": "stream",
     "text": [
      "Populating the interactive namespace from numpy and matplotlib\n"
     ]
    }
   ],
   "source": [
    "%pylab inline"
   ]
  },
  {
   "cell_type": "code",
   "execution_count": 2,
   "metadata": {
    "collapsed": true
   },
   "outputs": [],
   "source": [
    "from astropy.io import fits"
   ]
  },
  {
   "cell_type": "code",
   "execution_count": 3,
   "metadata": {
    "collapsed": true
   },
   "outputs": [],
   "source": [
    "hdulist = fits.open('euclid/euclid_le3_dc2_v0.fits')"
   ]
  },
  {
   "cell_type": "code",
   "execution_count": 4,
   "metadata": {},
   "outputs": [
    {
     "name": "stdout",
     "output_type": "stream",
     "text": [
      "Filename: euclid/euclid_le3_dc2_v0.fits\n",
      "No.    Name         Type      Cards   Dimensions   Format\n",
      "0    PRIMARY     PrimaryHDU      16   (522,)       uint8   \n",
      "1    euclid-sim01-r01.dat  BinTableHDU     22   137684148R x 5C   [D, D, D, D, D]   \n"
     ]
    }
   ],
   "source": [
    "hdulist.info()"
   ]
  },
  {
   "cell_type": "code",
   "execution_count": 5,
   "metadata": {},
   "outputs": [
    {
     "data": {
      "text/plain": [
       "SIMPLE  =                    T / Standard FITS format                           \n",
       "BITPIX  =                    8 / Character data                                 \n",
       "NAXIS   =                    1 / Text string                                    \n",
       "NAXIS1  =                  522 / Number of characters                           \n",
       "VOTMETA =                    T / Table metadata in VOTable format               \n",
       "EXTEND  =                    T / There are standard extensions                  \n",
       "COMMENT                                                                         \n",
       "COMMENT The data in this primary HDU consists of bytes which                    \n",
       "COMMENT comprise a VOTABLE document.                                            \n",
       "COMMENT The VOTable describes the metadata of the table contained               \n",
       "COMMENT in the following BINTABLE extension.                                    \n",
       "COMMENT Such a BINTABLE extension can be used on its own as a perfectly         \n",
       "COMMENT good table, but the information from this HDU may provide some          \n",
       "COMMENT useful additional metadata.                                             \n",
       "COMMENT There is one following BINTABLE.                                        \n",
       "NTABLE  =                    1 / Number of following BINTABLE HDUs              "
      ]
     },
     "execution_count": 5,
     "metadata": {},
     "output_type": "execute_result"
    }
   ],
   "source": [
    "hdulist[0].header"
   ]
  },
  {
   "cell_type": "code",
   "execution_count": 6,
   "metadata": {},
   "outputs": [
    {
     "data": {
      "text/plain": [
       "XTENSION= 'BINTABLE'           / binary table extension                         \n",
       "BITPIX  =                    8 / 8-bit bytes                                    \n",
       "NAXIS   =                    2 / 2-dimensional table                            \n",
       "NAXIS1  =                   40 / width of table in bytes                        \n",
       "NAXIS2  =            137684148 / number of rows in table                        \n",
       "PCOUNT  =                    0 / size of special data area                      \n",
       "GCOUNT  =                    1 / one data group                                 \n",
       "TFIELDS =                    5 / number of columns                              \n",
       "EXTNAME = 'euclid-sim01-r01.dat' / table name                                   \n",
       "TTYPE1  = 'ra      '           / label for column 1                             \n",
       "TFORM1  = 'D       '           / format for column 1                            \n",
       "TTYPE2  = 'dec     '           / label for column 2                             \n",
       "TFORM2  = 'D       '           / format for column 2                            \n",
       "TTYPE3  = 'ellip1  '           / label for column 3                             \n",
       "TFORM3  = 'D       '           / format for column 3                            \n",
       "TTYPE4  = 'ellip2  '           / label for column 4                             \n",
       "TFORM4  = 'D       '           / format for column 4                            \n",
       "TTYPE5  = 'z       '           / label for column 5                             \n",
       "TFORM5  = 'D       '           / format for column 5                            \n",
       "DATE-HDU= '2016-03-04T15:44:02' / Date of HDU creation (UTC)                    \n",
       "STILVERS= '3.1     '           / Version of STIL software                       \n",
       "STILCLAS= 'uk.ac.starlink.votable.FitsPlusTableWriter' / Author class in STIL so"
      ]
     },
     "execution_count": 6,
     "metadata": {},
     "output_type": "execute_result"
    }
   ],
   "source": [
    "hdulist[1].header"
   ]
  },
  {
   "cell_type": "code",
   "execution_count": 7,
   "metadata": {
    "collapsed": true
   },
   "outputs": [],
   "source": [
    "data = hdulist[1].data"
   ]
  },
  {
   "cell_type": "code",
   "execution_count": 8,
   "metadata": {},
   "outputs": [
    {
     "data": {
      "text/plain": [
       "(137684148,)"
      ]
     },
     "execution_count": 8,
     "metadata": {},
     "output_type": "execute_result"
    }
   ],
   "source": [
    "data.shape"
   ]
  },
  {
   "cell_type": "code",
   "execution_count": 9,
   "metadata": {},
   "outputs": [],
   "source": [
    "data_array = np.zeros((len(data), 5))"
   ]
  },
  {
   "cell_type": "code",
   "execution_count": 10,
   "metadata": {},
   "outputs": [],
   "source": [
    "for i in range(5):\n",
    "    data_array[:,i] = data.field(i)"
   ]
  },
  {
   "cell_type": "code",
   "execution_count": 13,
   "metadata": {},
   "outputs": [
    {
     "data": {
      "text/plain": [
       "(array([ 11208911.,  21327971.,  26218307.,  25132175.,  20330832.,\n",
       "         14436822.,   9211713.,   5399953.,   2931179.,   1486285.]),\n",
       " array([ 0.17500001,  0.36      ,  0.54499998,  0.72999997,  0.91499995,\n",
       "         1.09999993,  1.28499992,  1.4699999 ,  1.65499989,  1.83999987,\n",
       "         2.02499986]),\n",
       " <a list of 10 Patch objects>)"
      ]
     },
     "execution_count": 13,
     "metadata": {},
     "output_type": "execute_result"
    },
    {
     "data": {
      "image/png": "[encoded data removed]",
      "text/plain": [
       "<matplotlib.figure.Figure at 0x3def08410>"
      ]
     },
     "metadata": {},
     "output_type": "display_data"
    }
   ],
   "source": [
    "hist(data_array[:,4])"
   ]
  },
  {
   "cell_type": "code",
   "execution_count": 17,
   "metadata": {},
   "outputs": [],
   "source": [
    "bin1 = data_array[data_array[:,4] > 0.475]"
   ]
  },
  {
   "cell_type": "code",
   "execution_count": 19,
   "metadata": {},
   "outputs": [],
   "source": [
    "bin1 = bin1[bin1[:,4] < 0.675]"
   ]
  },
  {
   "cell_type": "code",
   "execution_count": 20,
   "metadata": {},
   "outputs": [
    {
     "data": {
      "text/plain": [
       "(27292883, 5)"
      ]
     },
     "execution_count": 20,
     "metadata": {},
     "output_type": "execute_result"
    }
   ],
   "source": [
    "bin1.shape"
   ]
  },
  {
   "cell_type": "code",
   "execution_count": null,
   "metadata": {
    "collapsed": true
   },
   "outputs": [],
   "source": []
  },
  {
   "cell_type": "code",
   "execution_count": null,
   "metadata": {
    "collapsed": true
   },
   "outputs": [],
   "source": []
  },
  {
   "cell_type": "code",
   "execution_count": null,
   "metadata": {
    "collapsed": true
   },
   "outputs": [],
   "source": []
  },
  {
   "cell_type": "code",
   "execution_count": null,
   "metadata": {
    "collapsed": true
   },
   "outputs": [],
   "source": []
  },
  {
   "cell_type": "code",
   "execution_count": 21,
   "metadata": {},
   "outputs": [],
   "source": [
    "from six.moves import cPickle as pickle\n",
    "\n",
    "with open('euclid_bin1.dat', 'wb') as f:\n",
    "    pickle.dump(bin1, f, pickle.HIGHEST_PROTOCOL)\n"
   ]
  },
  {
   "cell_type": "code",
   "execution_count": null,
   "metadata": {
    "collapsed": true
   },
   "outputs": [],
   "source": []
  }
 ],
 "metadata": {
  "kernelspec": {
   "display_name": "Python 2",
   "language": "python",
   "name": "python2"
  },
  "language_info": {
   "codemirror_mode": {
    "name": "ipython",
    "version": 2
   },
   "file_extension": ".py",
   "mimetype": "text/x-python",
   "name": "python",
   "nbconvert_exporter": "python",
   "pygments_lexer": "ipython2",
   "version": "2.7.14"
  }
 },
 "nbformat": 4,
 "nbformat_minor": 1
}
