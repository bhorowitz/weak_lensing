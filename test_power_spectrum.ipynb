{
 "cells": [
  {
   "cell_type": "code",
   "execution_count": 1,
   "metadata": {
    "collapsed": true
   },
   "outputs": [],
   "source": [
    "import numpy as np\n",
    "import matplotlib.pyplot as plt\n",
    "%matplotlib inline\n",
    "import math"
   ]
  },
  {
   "cell_type": "markdown",
   "metadata": {},
   "source": [
    "## Testing FFT normalization"
   ]
  },
  {
   "cell_type": "code",
   "execution_count": 2,
   "metadata": {
    "collapsed": false
   },
   "outputs": [
    {
     "name": "stdout",
     "output_type": "stream",
     "text": [
      "[ 1.  1.]\n",
      "[ 2.+0.j  0.+0.j]\n",
      "[ 1.  1.]\n"
     ]
    }
   ],
   "source": [
    "a = np.ones(2)\n",
    "b = np.fft.rfft(a)\n",
    "c = np.fft.irfft(b)\n",
    "print a\n",
    "print b\n",
    "print c"
   ]
  },
  {
   "cell_type": "markdown",
   "metadata": {},
   "source": [
    "## FFT summary\n",
    "`rfft` (or `fft`) does this:\n",
    "$$X_k=\\sum_{n=0}^{N-1}x_ne^{-i2\\pi k\\frac{n}{N}}$$\n",
    "`irfft` (or `ifft`) does this:\n",
    "$$x_n=\\frac{1}{N}\\sum_{k=0}^{N-1}X_ke^{i2\\pi k\\frac{n}{N}}$$\n",
    "We will denote the sums above without the prefactors by $DFT$ and $DFT^{-1}$ to be consistent with the *fftw3* package's notation. Then we have\n",
    "\n",
    "`rfft` is $DFT$\n",
    "\n",
    "`irfft` is $\\frac{1}{N}DFT^{-1}$"
   ]
  },
  {
   "cell_type": "markdown",
   "metadata": {},
   "source": [
    "## Discrete vs. continuous FFT\n",
    "Continuous:\n",
    "$$\\tilde{f}(k)=\\int\\,dx\\,f(x)e^{-ikx}$$\n",
    "$$f(x)=\\int\\,\\frac{dk}{2\\pi}\\tilde{f}(k)e^{ikx}$$\n",
    "\n",
    "Let's assume we have a box of size $L$, discretized on $N$ points. The first integral above becomes:\n",
    "$$\\tilde{f}(k)=\\frac{L}{N}\\sum_{n=0}^{N-1}f(x_n)e^{-ikx_n}=\\frac{L}{N}\\sum_{n=0}^{N-1}f(x_n)e^{-ik\\frac{L}{N}n}$$\n",
    "\n",
    "Discretizing $k$ by:\n",
    "$$k_j=\\frac{2\\pi}{L}j$$\n",
    "we get:\n",
    "$$\\tilde{f}_j=\\frac{L}{N}DFT(f_n)$$\n",
    "\n",
    "Going back:\n",
    "$$f_n=\\frac{1}{L}DFT^{-1}(\\tilde{f}_j)$$"
   ]
  },
  {
   "cell_type": "markdown",
   "metadata": {},
   "source": [
    "## Power spectrum (linear)\n",
    "Simple anzats:\n",
    "$$P(k)=A\\frac{k}{\\left(1+(k/k_0)^2\\right)^2}$$\n",
    "\n",
    "We use this so that $P(k)\\sim k$ for $k<k_0$ and $P(k)\\sim k^{-3}$ for $k>k_0$.\n",
    "\n",
    "The normalization $A$ will be determined from $\\sigma_8$."
   ]
  },
  {
   "cell_type": "code",
   "execution_count": 3,
   "metadata": {
    "collapsed": false
   },
   "outputs": [
    {
     "data": {
      "text/plain": [
       "[]"
      ]
     },
     "execution_count": 3,
     "metadata": {},
     "output_type": "execute_result"
    },
    {
     "data": {
      "image/png": "[encoded data removed]",
      "text/plain": [
       "<matplotlib.figure.Figure at 0x105a7e9d0>"
      ]
     },
     "metadata": {},
     "output_type": "display_data"
    }
   ],
   "source": [
    "k_0 = 0.015\n",
    "def p(k):\n",
    "    return k / (1 + (k/k_0)**2)**2\n",
    "\n",
    "k_array = np.arange(1e-5,1.0,1e-5)\n",
    "p_array = p(k_array)\n",
    "plt.plot(k_array, p_array)\n",
    "plt.loglog()"
   ]
  },
  {
   "cell_type": "code",
   "execution_count": 4,
   "metadata": {
    "collapsed": false
   },
   "outputs": [
    {
     "name": "stdout",
     "output_type": "stream",
     "text": [
      "40\n",
      "3.53922469185e-05\n",
      "28254.7757508\n"
     ]
    },
    {
     "data": {
      "text/plain": [
       "[]"
      ]
     },
     "execution_count": 4,
     "metadata": {},
     "output_type": "execute_result"
    },
    {
     "data": {
      "image/png": "[encoded data removed]",
      "text/plain": [
       "<matplotlib.figure.Figure at 0x106ace090>"
      ]
     },
     "metadata": {},
     "output_type": "display_data"
    }
   ],
   "source": [
    "L = 100.\n",
    "N = 128\n",
    "\n",
    "def calculatePNorm(dist = 4.0, corr = 1.0):\n",
    "    L1 = 100000.\n",
    "    N1 = 1000000\n",
    "    k_array1 = np.ones(N1 / 2 + 1)\n",
    "    for i in np.arange(len(k_array1)):\n",
    "        k_array1[i] = 2 * math.pi / L1 * i\n",
    "    p_array1 = p(k_array1)\n",
    "    s = np.fft.irfft(p_array1) / L1 * N1\n",
    "    i = int(dist/L1*N1)\n",
    "    print i\n",
    "    print s[i]\n",
    "    A = corr/s[i]\n",
    "    print A\n",
    "    return A\n",
    "\n",
    "p_norm = calculatePNorm(4.0, 1.0)\n",
    "k_array = np.ones(N / 2 + 1)\n",
    "for i in np.arange(len(k_array)):\n",
    "    k_array[i] = 2 * math.pi / L * i\n",
    "p_array = p_norm * p(k_array)\n",
    "plt.plot(k_array, p_array)\n",
    "plt.loglog()"
   ]
  },
  {
   "cell_type": "code",
   "execution_count": 6,
   "metadata": {
    "collapsed": false
   },
   "outputs": [
    {
     "name": "stdout",
     "output_type": "stream",
     "text": [
      "0.500422534763\n"
     ]
    },
    {
     "data": {
      "image/png": "[encoded data removed]",
      "text/plain": [
       "<matplotlib.figure.Figure at 0x106a85110>"
      ]
     },
     "metadata": {},
     "output_type": "display_data"
    }
   ],
   "source": [
    "seed = 100\n",
    "np.random.seed(seed)\n",
    "r = np.random.randn(2 * (N/2+1))\n",
    "r1 = r[0::2]\n",
    "r2 = r[1::2]\n",
    "delta_k_re = r1 * np.sqrt(L * p_array / 2)\n",
    "delta_k_im = r2 * np.sqrt(L * p_array / 2)\n",
    "#first and last elements must be real\n",
    "delta_k_re[0] = r1[0] * np.sqrt(L * p_array[0])\n",
    "delta_k_im[0] = 0\n",
    "delta_k_re[-1] = r1[-1] * np.sqrt(L * p_array[-1])\n",
    "delta_k_im[-1] = 0\n",
    "delta_k = np.array(delta_k_re, dtype=complex)+np.complex(0,1)*delta_k_im\n",
    "delta_x = np.fft.irfft(delta_k) / L * N\n",
    "x_array = np.ones(N)\n",
    "for i in xrange(N):\n",
    "    x_array[i] = i * L / N\n",
    "plt.plot(x_array, delta_x)\n",
    "print delta_x.max()\n",
    "np.savetxt('delta_x_python.txt', delta_x)"
   ]
  },
  {
   "cell_type": "code",
   "execution_count": 6,
   "metadata": {
    "collapsed": false
   },
   "outputs": [
    {
     "name": "stdout",
     "output_type": "stream",
     "text": [
      "0.64941805995\n"
     ]
    },
    {
     "data": {
      "image/png": "[encoded data removed]",
      "text/plain": [
       "<matplotlib.figure.Figure at 0x10a9a9e90>"
      ]
     },
     "metadata": {},
     "output_type": "display_data"
    }
   ],
   "source": [
    "def deltaNonLin(delta):\n",
    "    return np.exp(delta)-1\n",
    "\n",
    "delta_nl = deltaNonLin(delta_x)\n",
    "plt.plot(x_array, delta_x, 'g')\n",
    "plt.plot(x_array, delta_nl, 'b')\n",
    "print delta_nl.max()"
   ]
  },
  {
   "cell_type": "code",
   "execution_count": 7,
   "metadata": {
    "collapsed": false
   },
   "outputs": [
    {
     "data": {
      "text/plain": [
       "[<matplotlib.lines.Line2D at 0x105d53b10>]"
      ]
     },
     "execution_count": 7,
     "metadata": {},
     "output_type": "execute_result"
    },
    {
     "data": {
      "image/png": "[encoded data removed]",
      "text/plain": [
       "<matplotlib.figure.Figure at 0x10a961350>"
      ]
     },
     "metadata": {},
     "output_type": "display_data"
    }
   ],
   "source": [
    "k_2_array = k_array * k_array\n",
    "k_2_array[0] = 1.\n",
    "def calculateV(d):\n",
    "    d_k = np.fft.rfft(d) * L / N\n",
    "    v_k = d_k * np.complex(0, 1) * k_array / k_2_array\n",
    "    v_x = np.fft.irfft(v_k) * N / L\n",
    "    return v_x\n",
    "\n",
    "v = calculateV(delta_nl)\n",
    "plt.plot(x_array, v)"
   ]
  },
  {
   "cell_type": "code",
   "execution_count": 8,
   "metadata": {
    "collapsed": false
   },
   "outputs": [
    {
     "name": "stdout",
     "output_type": "stream",
     "text": [
      "10000 loops, best of 3: 33.1 µs per loop\n"
     ]
    }
   ],
   "source": [
    "timeit v1 = calculateV(delta_nl)"
   ]
  },
  {
   "cell_type": "code",
   "execution_count": 9,
   "metadata": {
    "collapsed": false
   },
   "outputs": [
    {
     "data": {
      "text/plain": [
       "[<matplotlib.lines.Line2D at 0x10adea950>]"
      ]
     },
     "execution_count": 9,
     "metadata": {},
     "output_type": "execute_result"
    },
    {
     "data": {
      "image/png": "[encoded data removed]",
      "text/plain": [
       "<matplotlib.figure.Figure at 0x106b53dd0>"
      ]
     },
     "metadata": {},
     "output_type": "display_data"
    }
   ],
   "source": [
    "v_deriv_array_k = np.complex(0,1)*k_array / k_2_array\n",
    "v_deriv_array = np.fft.irfft(v_deriv_array_k)\n",
    "\n",
    "plt.plot(x_array, v_deriv_array)"
   ]
  },
  {
   "cell_type": "code",
   "execution_count": 10,
   "metadata": {
    "collapsed": false
   },
   "outputs": [
    {
     "data": {
      "text/plain": [
       "True"
      ]
     },
     "execution_count": 10,
     "metadata": {},
     "output_type": "execute_result"
    }
   ],
   "source": [
    "def get_v_deriv(m, n, delta):\n",
    "    if m > n:\n",
    "        return v_deriv_array[m - n] * np.exp(delta[n])\n",
    "    return -v_deriv_array[n - m] * np.exp(delta[n])\n",
    "\n",
    "def test_v_derivs():\n",
    "    epsilon = 0.001\n",
    "    res = True\n",
    "    for n in np.arange(N):\n",
    "        delta_pert = delta_x.copy()\n",
    "        delta_pert[n] += epsilon\n",
    "        delta_nl_pert = deltaNonLin(delta_pert)\n",
    "        v_pert = calculateV(delta_nl_pert)\n",
    "        delta_v = v_pert - v\n",
    "        numDeriv = delta_v / epsilon\n",
    "        for m in np.arange(N):\n",
    "            deriv = get_v_deriv(m, n, delta_x)\n",
    "            if (numDeriv[m] == 0 and abs(deriv) > 1e-7) or (deriv == 0 and abs(numDeriv[m]) > 1e-7) or (numDeriv[m] != 0 and deriv != 0 and abs(deriv - numDeriv[m]) / numDeriv[m] > 1e-3):\n",
    "                print 'problem: ' + str(m) + ' ' + str(n) + ' numerical derivative = ' + str(numDeriv[m]) + \\\n",
    "                ' actual derivative = ' + str(deriv)\n",
    "                res = False\n",
    "    return res\n",
    "            \n",
    "test_v_derivs()"
   ]
  },
  {
   "cell_type": "code",
   "execution_count": 11,
   "metadata": {
    "collapsed": false
   },
   "outputs": [
    {
     "data": {
      "text/plain": [
       "[<matplotlib.lines.Line2D at 0x106a09b10>]"
      ]
     },
     "execution_count": 11,
     "metadata": {},
     "output_type": "execute_result"
    },
    {
     "data": {
      "image/png": "[encoded data removed]",
      "text/plain": [
       "<matplotlib.figure.Figure at 0x106b28b50>"
      ]
     },
     "metadata": {},
     "output_type": "display_data"
    }
   ],
   "source": [
    "b = 0.1\n",
    "\n",
    "def bringXToRange(x):\n",
    "    if x < 0:\n",
    "        y = -x\n",
    "        n = math.ceil(y / L)\n",
    "        x += n * L\n",
    "        if x < 0:\n",
    "            print \"Bring X to range problem for x = \" + str(x)\n",
    "    n = int(math.floor(x / L))\n",
    "    x -= n * L\n",
    "    while x < 0:\n",
    "        x += L\n",
    "    while x >= L:\n",
    "        x -= L\n",
    "    return x\n",
    "\n",
    "def calculateTauSlow(d_nl, v):\n",
    "    rho = d_nl + 1\n",
    "    tau = np.zeros(N)\n",
    "    rsd_x_array = x_array + v\n",
    "    for i in np.arange(N):\n",
    "        rsd_x_array[i] = bringXToRange(rsd_x_array[i])\n",
    "    #plt.plot(rsd_x_array, rho**2, '.')\n",
    "    for i in np.arange(N):\n",
    "        u = x_array[i]\n",
    "        for j in np.arange(N):\n",
    "            xv = rsd_x_array[j]\n",
    "            d1 = u - xv\n",
    "            d2 = d1 - L\n",
    "            d3 = d1 + L\n",
    "            tau[i] += rho[j]**2 * (np.exp(-d1**2 / b**2) + np.exp(-d2**2 / b**2) + np.exp(-d3**2 / b**2))\n",
    "    tau *= L/N\n",
    "    return tau\n",
    "\n",
    "def bringIndexToRange(i):\n",
    "    if i < 0:\n",
    "        j = -i\n",
    "        n = (j - 1) / N + 1\n",
    "        i += n * N\n",
    "        if i < 0:\n",
    "            print 'bringIndexToRange problem for i = ' + str(i)\n",
    "    return i % N\n",
    "\n",
    "def calculateTau(d_nl, v):\n",
    "    rho = d_nl + 1\n",
    "    tau = np.zeros(N)\n",
    "    rsd_x_array = x_array + v\n",
    "    for j in np.arange(N):\n",
    "        xv = rsd_x_array[j]\n",
    "        x_1 = xv - 5 * b\n",
    "        x_2 = xv + 5 * b\n",
    "        i_1 = int(math.floor(x_1/L*N))-1\n",
    "        i_2 = int(math.ceil(x_2/L*N))+1\n",
    "        for i in np.arange(i_1, i_2 + 1):\n",
    "            i_shifted = bringIndexToRange(i)\n",
    "            u = i * L / N\n",
    "            d = u - xv\n",
    "            tau[i_shifted] += rho[j]**2 * np.exp(-d**2 / b**2)\n",
    "    tau *= L/N\n",
    "    return tau\n",
    "\n",
    "def get_tau_deriv(m, n, delta, d_nl, v):\n",
    "    u = x_array[m]\n",
    "    rsd_x_array = x_array + v\n",
    "    for i in np.arange(N):\n",
    "        rsd_x_array[i] = bringXToRange(rsd_x_array[i])\n",
    "    xv = rsd_x_array[n]\n",
    "        \n",
    "    d1 = u - xv\n",
    "    d2 = d1 - L\n",
    "    d3 = d1 + L\n",
    "    rho = d_nl + 1\n",
    "    res = 2 * rho[n] * np.exp(delta[n]) * (np.exp(-d1**2/b**2) + np.exp(-d2**2/b**2) + np.exp(-d3**2/b**2))\n",
    "    \n",
    "    for i in np.arange(N):\n",
    "        xv = rsd_x_array[i]\n",
    "        d1 = u - xv\n",
    "        d2 = d1 - L\n",
    "        d3 = d1 + L\n",
    "        if abs(d1) > 5 * b and abs(d2) > 5 * b and abs(d3) > 5 * b:\n",
    "            continue\n",
    "        res += 2 * rho[i]**2 * (np.exp(-d1**2/b**2)*d1 + np.exp(-d2**2/b**2)*d2 + np.exp(-d3**2/b**2)*d3)/b**2 * get_v_deriv(i, n, delta)\n",
    "    \n",
    "    res *= L/N\n",
    "    return res\n",
    "\n",
    "def get_tau_derivs(delta, d_nl, v):\n",
    "    rho = d_nl + 1\n",
    "    res = np.zeros((N, N))\n",
    "    rsd_x_array = x_array + v\n",
    "    for n in np.arange(N):\n",
    "        #first term\n",
    "        xv = rsd_x_array[n]\n",
    "        x_1 = xv - 5 * b\n",
    "        x_2 = xv + 5 * b\n",
    "        i_1 = int(math.floor(x_1/L*N))-1\n",
    "        i_2 = int(math.ceil(x_2/L*N))+1\n",
    "        for i in np.arange(i_1, i_2 + 1):\n",
    "            i_shifted = bringIndexToRange(i)\n",
    "            u = i * L / N\n",
    "            d = u - xv\n",
    "            res[i_shifted][n] += 2 * rho[n] * np.exp(delta[n]) * np.exp(-d**2/b**2)\n",
    "    \n",
    "        #second term\n",
    "        for i in np.arange(N):\n",
    "            xv = rsd_x_array[i]\n",
    "            x_1 = xv - 5 * b\n",
    "            x_2 = xv + 5 * b\n",
    "            m_1 = int(math.floor(x_1/L*N))-1\n",
    "            m_2 = int(math.ceil(x_2/L*N))+1\n",
    "            for m in np.arange(m_1, m_2 + 1):\n",
    "                m_shifted = bringIndexToRange(m)\n",
    "                u = m * L / N\n",
    "                d = u - xv\n",
    "                res[m_shifted][n] += 2 * rho[i]**2 * np.exp(-d**2/b**2)*d/b**2 * get_v_deriv(i, n, delta)\n",
    "    res *= L/N\n",
    "    return res\n",
    "\n",
    "\n",
    "\n",
    "tau = calculateTau(delta_nl, v)\n",
    "plt.plot(x_array, tau)"
   ]
  },
  {
   "cell_type": "code",
   "execution_count": 12,
   "metadata": {
    "collapsed": false
   },
   "outputs": [
    {
     "name": "stdout",
     "output_type": "stream",
     "text": [
      "100 loops, best of 3: 3.51 ms per loop\n"
     ]
    }
   ],
   "source": [
    "timeit calculateTau(delta_nl, v)"
   ]
  },
  {
   "cell_type": "code",
   "execution_count": 13,
   "metadata": {
    "collapsed": false
   },
   "outputs": [
    {
     "name": "stdout",
     "output_type": "stream",
     "text": [
      "10 loops, best of 3: 105 ms per loop\n"
     ]
    }
   ],
   "source": [
    "timeit calculateTauSlow(delta_nl, v)"
   ]
  },
  {
   "cell_type": "code",
   "execution_count": 14,
   "metadata": {
    "collapsed": false
   },
   "outputs": [
    {
     "name": "stdout",
     "output_type": "stream",
     "text": [
      "0\n"
     ]
    }
   ],
   "source": [
    "tau_test = calculateTauSlow(delta_nl, v)\n",
    "tau_diff = np.abs((tau - tau_test) / tau_test)\n",
    "print np.sum(tau_diff > 1e-10)"
   ]
  },
  {
   "cell_type": "code",
   "execution_count": 15,
   "metadata": {
    "collapsed": false
   },
   "outputs": [
    {
     "name": "stdout",
     "output_type": "stream",
     "text": [
      "1000 loops, best of 3: 335 µs per loop\n"
     ]
    }
   ],
   "source": [
    "timeit get_tau_deriv(10, 10, delta_x, delta_nl, v)"
   ]
  },
  {
   "cell_type": "code",
   "execution_count": 16,
   "metadata": {
    "collapsed": false
   },
   "outputs": [
    {
     "name": "stdout",
     "output_type": "stream",
     "text": [
      "1 loop, best of 3: 666 ms per loop\n"
     ]
    }
   ],
   "source": [
    "timeit get_tau_derivs(delta_x, delta_nl, v)"
   ]
  },
  {
   "cell_type": "code",
   "execution_count": 17,
   "metadata": {
    "collapsed": false
   },
   "outputs": [
    {
     "data": {
      "text/plain": [
       "True"
      ]
     },
     "execution_count": 17,
     "metadata": {},
     "output_type": "execute_result"
    }
   ],
   "source": [
    "def test_tau_derivs():\n",
    "    epsilon = 0.00001\n",
    "    res = True\n",
    "    tau_derivs = get_tau_derivs(delta_x, delta_nl, v)\n",
    "    for n in np.arange(N):\n",
    "        delta_pert = delta_x.copy()\n",
    "        delta_pert[n] += epsilon\n",
    "        delta_nl_pert = deltaNonLin(delta_pert)\n",
    "        v_pert = calculateV(delta_nl_pert)\n",
    "        tau_pert = calculateTau(delta_nl_pert, v_pert)\n",
    "        delta_tau = tau_pert - tau\n",
    "        numDeriv = delta_tau / epsilon\n",
    "        for m in np.arange(N):\n",
    "            #deriv = get_tau_deriv(m, n, delta_x, delta_nl, v)\n",
    "            deriv = tau_derivs[m][n]\n",
    "            if ((abs(numDeriv[m]) < 1e-7 and abs(deriv) > 1e-7) or (abs(deriv) < 1e-7 and abs(numDeriv[m]) > 1e-7) or (abs(numDeriv[m]) > 1e-7 and abs(deriv) > 1e-7 and abs(deriv - numDeriv[m]) / numDeriv[m] > 1e-1)):\n",
    "                print 'problem: ' + str(m) + ' ' + str(n) + ' numerical derivative = ' + str(numDeriv[m]) + \\\n",
    "                ' actual derivative = ' + str(deriv) + ' tau = ' + str(tau[m])\n",
    "                res = False\n",
    "    return res\n",
    "            \n",
    "test_tau_derivs()"
   ]
  },
  {
   "cell_type": "code",
   "execution_count": 18,
   "metadata": {
    "collapsed": false
   },
   "outputs": [
    {
     "data": {
      "text/plain": [
       "[<matplotlib.lines.Line2D at 0x10a98a590>]"
      ]
     },
     "execution_count": 18,
     "metadata": {},
     "output_type": "execute_result"
    },
    {
     "data": {
      "image/png": "[encoded data removed]",
      "text/plain": [
       "<matplotlib.figure.Figure at 0x10a98aed0>"
      ]
     },
     "metadata": {},
     "output_type": "display_data"
    }
   ],
   "source": [
    "sigma_nl = np.abs(delta_nl) / 10\n",
    "noiseSeed = seed + 100\n",
    "np.random.seed(noiseSeed)\n",
    "delta_nl_noisy = delta_nl + np.random.randn(N) * sigma_nl\n",
    "plt.plot(x_array, delta_nl, 'g')\n",
    "plt.plot(x_array, delta_nl_noisy, 'b')"
   ]
  },
  {
   "cell_type": "code",
   "execution_count": 19,
   "metadata": {
    "collapsed": false
   },
   "outputs": [
    {
     "name": "stdout",
     "output_type": "stream",
     "text": [
      "Prior deriv problem for 12 expected -13.2674342126 got -11.9808284333\n",
      "Prior deriv problem for 17 expected -9.65467586695 got -11.1186541381\n",
      "Prior deriv problem for 48 expected 6.70562116909 got 7.99222695955\n",
      "Prior deriv problem for 72 expected 3.21713966116 got 4.50374544035\n",
      "Like deriv problem for 103 expected 1593.43822501 got 1295.92056774\n",
      "Prior deriv problem for 125 expected 2.09167294827 got 0.627694669819\n"
     ]
    }
   ],
   "source": [
    "def like_delta(x):\n",
    "    my_delta_nl = deltaNonLin(x)\n",
    "    diff = my_delta_nl - delta_nl_noisy\n",
    "    return np.sum(diff**2/sigma_nl**2)\n",
    "\n",
    "def like_delta_deriv(x):\n",
    "    my_delta_nl = deltaNonLin(x)\n",
    "    diff = my_delta_nl - delta_nl_noisy\n",
    "    return 2 * diff * np.exp(x) / sigma_nl**2\n",
    "\n",
    "def prior(x):\n",
    "    my_delta_k = np.fft.rfft(x) * L / N\n",
    "    res = 0\n",
    "    #ignore the first element since the power spectrum there is 0\n",
    "    #the last element is real\n",
    "    for i in np.arange(1,N/2,1):\n",
    "        res += abs(my_delta_k[i])**2 / (L * p_array[i])\n",
    "    \n",
    "    #multiply by two for conjugate k vals\n",
    "    res *= 2\n",
    "    res += abs(my_delta_k[-1])**2 / (L * p_array[i])\n",
    "    return res\n",
    "\n",
    "p_array_nonzero = p_array.copy()\n",
    "p_array_nonzero[p_array_nonzero == 0.] = 1.\n",
    "\n",
    "def prior_deriv(x):\n",
    "    my_delta_k = np.fft.rfft(x) * L / N\n",
    "    dp_ddelta_k = 2 * my_delta_k / (L * p_array_nonzero)\n",
    "    dp_ddelta_x = np.fft.irfft(dp_ddelta_k) * L\n",
    "    return dp_ddelta_x\n",
    "    \n",
    "def test_derivs():\n",
    "    epsilon = 0.00001\n",
    "    my_like = like_delta(delta_x)\n",
    "    my_prior = prior(delta_x)\n",
    "    my_like_deriv = like_delta_deriv(delta_x)\n",
    "    my_prior_deriv = prior_deriv(delta_x)\n",
    "    for i in np.arange(N):\n",
    "        x = delta_x.copy()\n",
    "        x[i] += epsilon\n",
    "        new_like = like_delta(x)\n",
    "        new_prior = prior(x)\n",
    "        like_deriv = (new_like - my_like) / epsilon\n",
    "        p_deriv = (new_prior - my_prior) / epsilon\n",
    "        if abs((like_deriv - my_like_deriv[i]) / my_like_deriv[i]) > 1e-1:\n",
    "            print 'Like deriv problem for ' + str(i) + ' expected ' + str(like_deriv) + ' got ' + str(my_like_deriv[i])\n",
    "        if abs((p_deriv - my_prior_deriv[i]) / my_prior_deriv[i]) > 1e-1:\n",
    "            print 'Prior deriv problem for ' + str(i) + ' expected ' + str(p_deriv) + ' got ' + str(my_prior_deriv[i])\n",
    "            \n",
    "test_derivs()"
   ]
  },
  {
   "cell_type": "code",
   "execution_count": 20,
   "metadata": {
    "collapsed": false
   },
   "outputs": [
    {
     "data": {
      "text/plain": [
       "131.29138349624651"
      ]
     },
     "execution_count": 20,
     "metadata": {},
     "output_type": "execute_result"
    }
   ],
   "source": [
    "prior(delta_x)"
   ]
  },
  {
   "cell_type": "code",
   "execution_count": 21,
   "metadata": {
    "collapsed": true
   },
   "outputs": [],
   "source": [
    "from scipy.optimize import fmin_l_bfgs_b\n",
    "\n",
    "def f(x):\n",
    "    return like_delta(x) + prior(x)\n",
    "\n",
    "def f_deriv(x):\n",
    "    return like_delta_deriv(x) + prior_deriv(x)\n",
    "\n",
    "x0 = np.zeros(N)\n",
    "x_min, f_min, d_min = fmin_l_bfgs_b(f, x0, fprime = f_deriv, maxfun = 10000000, maxiter = 10000000)"
   ]
  },
  {
   "cell_type": "code",
   "execution_count": 22,
   "metadata": {
    "collapsed": false
   },
   "outputs": [
    {
     "name": "stdout",
     "output_type": "stream",
     "text": [
      "f_min = 125.10831376\n",
      "n_iters = 477\n",
      "funcalls = 569\n"
     ]
    },
    {
     "data": {
      "text/plain": [
       "[<matplotlib.lines.Line2D at 0x10c4afc50>]"
      ]
     },
     "execution_count": 22,
     "metadata": {},
     "output_type": "execute_result"
    },
    {
     "data": {
      "image/png": "[encoded data removed]",
      "text/plain": [
       "<matplotlib.figure.Figure at 0x10c4afcd0>"
      ]
     },
     "metadata": {},
     "output_type": "display_data"
    }
   ],
   "source": [
    "print \"f_min = \" + str(f_min)\n",
    "print 'n_iters = ' + str(d_min['nit'])\n",
    "print 'funcalls = ' + str(d_min['funcalls'])\n",
    "plt.plot(x_array, x_min, 'g')\n",
    "plt.plot(x_array, delta_x, 'b')"
   ]
  },
  {
   "cell_type": "code",
   "execution_count": 23,
   "metadata": {
    "collapsed": false
   },
   "outputs": [
    {
     "data": {
      "text/plain": [
       "[<matplotlib.lines.Line2D at 0x10c5a8710>]"
      ]
     },
     "execution_count": 23,
     "metadata": {},
     "output_type": "execute_result"
    },
    {
     "data": {
      "image/png": "[encoded data removed]",
      "text/plain": [
       "<matplotlib.figure.Figure at 0x10c5a8890>"
      ]
     },
     "metadata": {},
     "output_type": "display_data"
    }
   ],
   "source": [
    "sigma_tau = tau / 10\n",
    "sigma_tau[sigma_tau < 0.01] = 0.01\n",
    "noiseSeed = seed + 100\n",
    "np.random.seed(noiseSeed)\n",
    "tau_noisy = tau + np.random.randn(N) * sigma_tau\n",
    "plt.plot(x_array, tau, 'g')\n",
    "plt.plot(x_array, tau_noisy, 'b')"
   ]
  },
  {
   "cell_type": "code",
   "execution_count": 24,
   "metadata": {
    "collapsed": false
   },
   "outputs": [],
   "source": [
    "def like_tau(x):\n",
    "    my_delta_nl = deltaNonLin(x)\n",
    "    my_v = calculateV(my_delta_nl)\n",
    "    my_tau = calculateTau(my_delta_nl, my_v)\n",
    "    diff = my_tau - tau_noisy\n",
    "    return np.sum(diff**2/sigma_tau**2)\n",
    "\n",
    "def like_tau_deriv(x):\n",
    "    my_delta_nl = deltaNonLin(x)\n",
    "    my_v = calculateV(my_delta_nl)\n",
    "    my_tau = calculateTau(my_delta_nl, my_v)\n",
    "    diff = my_tau - tau_noisy\n",
    "    res = np.zeros(N)\n",
    "    tau_derivs = get_tau_derivs(x, my_delta_nl, my_v)\n",
    "    for i in np.arange(N):\n",
    "        for j in np.arange(N):\n",
    "            res[i] += 2 * diff[j] / sigma_tau[j]**2 * tau_derivs[j][i]\n",
    "    \n",
    "    return res\n",
    "\n",
    "def test_like_tau_derivs():\n",
    "    epsilon = 0.00001\n",
    "    my_like = like_tau(delta_x)\n",
    "    my_like_deriv = like_tau_deriv(delta_x)\n",
    "    for i in np.arange(N):\n",
    "        x = delta_x.copy()\n",
    "        x[i] += epsilon\n",
    "        new_like = like_tau(x)\n",
    "        like_deriv = (new_like - my_like) / epsilon\n",
    "        if (abs(my_like_deriv[i]) < 1e-7 and abs(like_deriv) > 1e-7) or (abs(like_deriv) < 1e-7 and abs(my_like_deriv[i]) > 1e-7) or (abs(like_deriv) > 1e-7 and abs(my_like_deriv[i]) > 1e-7 and abs((like_deriv - my_like_deriv[i]) / my_like_deriv[i]) > 1e-1):\n",
    "            print 'Like deriv problem for ' + str(i) + ' expected ' + str(like_deriv) + ' got ' + str(my_like_deriv[i])\n",
    "\n",
    "test_like_tau_derivs()"
   ]
  },
  {
   "cell_type": "code",
   "execution_count": 25,
   "metadata": {
    "collapsed": false
   },
   "outputs": [
    {
     "name": "stdout",
     "output_type": "stream",
     "text": [
      "1 loop, best of 3: 682 ms per loop\n"
     ]
    }
   ],
   "source": [
    "timeit like_tau_deriv(delta_x)"
   ]
  },
  {
   "cell_type": "code",
   "execution_count": 36,
   "metadata": {
    "collapsed": false
   },
   "outputs": [
    {
     "name": "stdout",
     "output_type": "stream",
     "text": [
      "function evaluation: 489295.922173\n",
      "function evaluation: 31837.8127711\n",
      "function evaluation: 65402.5598305\n",
      "function evaluation: 13925.720756\n",
      "function evaluation: 12410.2367298\n",
      "function evaluation: 11329.4262867\n",
      "function evaluation: 9409.89198442\n",
      "function evaluation: 6997.37838706\n",
      "function evaluation: 6785.12743492\n",
      "function evaluation: 6275.69064474\n",
      "function evaluation: 5851.43493149\n",
      "function evaluation: 5967.78960855\n",
      "function evaluation: 5716.1575913\n",
      "function evaluation: 6472.80019467\n",
      "function evaluation: 5663.76149402\n",
      "function evaluation: 5586.28062816\n",
      "function evaluation: 5445.90686062\n",
      "function evaluation: 12361.991822\n",
      "function evaluation: 5352.77718619\n",
      "function evaluation: 5305.205981\n",
      "function evaluation: 5269.68130311\n",
      "function evaluation: 5208.81211915\n",
      "function evaluation: 5145.27792653\n",
      "function evaluation: 4913.45887203\n",
      "function evaluation: 4753.28510774\n",
      "function evaluation: 4597.5265395\n",
      "function evaluation: 4515.74865035\n",
      "function evaluation: 4426.42213986\n",
      "function evaluation: 4306.28080975\n",
      "function evaluation: 4246.93442951\n",
      "function evaluation: 4214.47627436\n",
      "function evaluation: 4171.73301232\n",
      "function evaluation: 4127.50367007\n",
      "function evaluation: 4083.1402279\n",
      "function evaluation: 4006.20042538\n",
      "function evaluation: 3952.60482962\n",
      "function evaluation: 3908.22021478\n",
      "function evaluation: 3887.816104\n",
      "function evaluation: 3889.04950363\n",
      "function evaluation: 3875.40136976\n",
      "function evaluation: 3862.51003565\n",
      "function evaluation: 3842.42065855\n",
      "function evaluation: 3827.85580092\n",
      "function evaluation: 3807.4601148\n",
      "function evaluation: 3784.35481568\n",
      "function evaluation: 3748.2485277\n",
      "function evaluation: 3719.668691\n",
      "function evaluation: 3701.19610401\n",
      "function evaluation: 3691.04479416\n",
      "function evaluation: 3675.53511226\n",
      "function evaluation: 3667.77694149\n",
      "function evaluation: 3660.38666869\n",
      "function evaluation: 3648.06509924\n",
      "function evaluation: 3622.88820913\n",
      "function evaluation: 3601.91411156\n",
      "function evaluation: 3577.08011047\n",
      "function evaluation: 3557.22406701\n",
      "function evaluation: 3534.89953482\n",
      "function evaluation: 3495.1323171\n",
      "function evaluation: 3485.01204984\n",
      "function evaluation: 3469.16946047\n",
      "function evaluation: 3426.92641529\n",
      "function evaluation: 3392.57749753\n",
      "function evaluation: 3378.43704009\n",
      "function evaluation: 3400.6396785\n",
      "function evaluation: 3372.73913234\n",
      "function evaluation: 3363.96583267\n",
      "function evaluation: 3349.22066976\n",
      "function evaluation: 3341.52891005\n",
      "function evaluation: 3328.1838788\n",
      "function evaluation: 3319.8029903\n",
      "function evaluation: 3307.96185346\n",
      "function evaluation: 3293.75443527\n",
      "function evaluation: 3268.96206783\n",
      "function evaluation: 3369.76268382\n",
      "function evaluation: 3245.96918512\n",
      "function evaluation: 3267.31732368\n",
      "function evaluation: 3230.82121348\n",
      "function evaluation: 3221.04003827\n",
      "function evaluation: 3210.06240988\n",
      "function evaluation: 3204.06717116\n",
      "function evaluation: 3199.26603458\n",
      "function evaluation: 3195.02735272\n",
      "function evaluation: 3185.06578184\n",
      "function evaluation: 3170.28210021\n",
      "function evaluation: 3162.33255708\n",
      "function evaluation: 3158.29313752\n",
      "function evaluation: 3154.98456493\n",
      "function evaluation: 3151.00899927\n",
      "function evaluation: 3146.55060011\n",
      "function evaluation: 3143.72291122\n",
      "function evaluation: 3141.05885916\n",
      "function evaluation: 3136.91309588\n",
      "function evaluation: 3131.33205261\n",
      "function evaluation: 3125.97677632\n",
      "function evaluation: 3119.04553306\n",
      "function evaluation: 3110.6104151\n",
      "function evaluation: 3752.309576\n",
      "function evaluation: 3097.50869396\n",
      "function evaluation: 3101.47369847\n",
      "function evaluation: 3091.13383434\n",
      "function evaluation: 44432.0929058\n",
      "function evaluation: 3091.0433745\n",
      "function evaluation: 3090.19776346\n",
      "function evaluation: 3088.70387876\n",
      "function evaluation: 3075.17957293\n",
      "function evaluation: 3049.10206084\n",
      "function evaluation: 3028.67302196\n",
      "function evaluation: 2990.50188489\n",
      "function evaluation: 2956.94998322\n",
      "function evaluation: 2911.88481189\n",
      "function evaluation: 2879.40788812\n",
      "function evaluation: 2832.12398865\n",
      "function evaluation: 2770.08473774\n",
      "function evaluation: 2698.91184341\n",
      "function evaluation: 2656.698743\n",
      "function evaluation: 5475.51637614\n",
      "function evaluation: 2583.90476152\n",
      "function evaluation: 2622.88544813\n",
      "function evaluation: 2473.08764934\n",
      "function evaluation: 2396.85128895\n",
      "function evaluation: 2299.12209166\n",
      "function evaluation: 2224.46091001\n",
      "function evaluation: 2173.57790714\n",
      "function evaluation: 2140.73715567\n",
      "function evaluation: 2117.8157354\n",
      "function evaluation: 2105.3389254\n",
      "function evaluation: 2081.35251884\n",
      "function evaluation: 2046.29902068\n",
      "function evaluation: 2026.86112556\n",
      "function evaluation: 2011.26618024\n",
      "function evaluation: 1997.91617074\n",
      "function evaluation: 1987.492829\n",
      "function evaluation: 1977.98230342\n",
      "function evaluation: 1972.24702188\n",
      "function evaluation: 1966.82903422\n",
      "function evaluation: 1961.79294134\n",
      "function evaluation: 1958.94738488\n",
      "function evaluation: 1947.48919829\n",
      "function evaluation: 1939.05157215\n",
      "function evaluation: 1934.27263088\n",
      "function evaluation: 1930.06783282\n",
      "function evaluation: 1926.42249197\n",
      "function evaluation: 1921.65428008\n",
      "function evaluation: 1917.80551794\n",
      "function evaluation: 1914.95153017\n",
      "function evaluation: 1913.16009613\n",
      "function evaluation: 1911.05735095\n",
      "function evaluation: 1906.59978415\n",
      "function evaluation: 1900.81768058\n",
      "function evaluation: 1893.80077142\n",
      "function evaluation: 1886.53464823\n",
      "function evaluation: 1879.59618165\n",
      "function evaluation: 1874.5220097\n",
      "function evaluation: 1867.84519364\n",
      "function evaluation: 1859.41230245\n",
      "function evaluation: 1850.63193455\n",
      "function evaluation: 1842.06753463\n",
      "function evaluation: 1836.13190614\n",
      "function evaluation: 1831.24397595\n",
      "function evaluation: 1825.35839513\n",
      "function evaluation: 1813.64762798\n",
      "function evaluation: 1802.44829085\n",
      "function evaluation: 1794.62781085\n",
      "function evaluation: 1788.89030176\n",
      "function evaluation: 1780.60495388\n",
      "function evaluation: 1758.59715702\n",
      "function evaluation: 1746.44152094\n",
      "function evaluation: 1739.37921399\n",
      "function evaluation: 1732.30178623\n",
      "function evaluation: 1725.9691293\n",
      "function evaluation: 1718.6122134\n",
      "function evaluation: 1702.90358105\n",
      "function evaluation: 1691.42702349\n",
      "function evaluation: 1684.03539913\n",
      "function evaluation: 1677.45894739\n",
      "function evaluation: 1664.18967404\n",
      "function evaluation: 1646.86464349\n",
      "function evaluation: 1640.73702239\n",
      "function evaluation: 1623.24527846\n",
      "function evaluation: 1616.56415587\n",
      "function evaluation: 1607.4944773\n",
      "function evaluation: 1591.53467541\n",
      "function evaluation: 1578.77651661\n",
      "function evaluation: 1558.82686722\n",
      "function evaluation: 1546.46582533\n",
      "function evaluation: 1534.58069942\n",
      "function evaluation: 1524.53283165\n",
      "function evaluation: 1512.81203456\n",
      "function evaluation: 1505.59878593\n",
      "function evaluation: 1503.60892408\n",
      "function evaluation: 1494.34207305\n",
      "function evaluation: 1479.07761059\n",
      "function evaluation: 1475.47510208\n",
      "function evaluation: 1468.66731936\n",
      "function evaluation: 1465.11326819\n",
      "function evaluation: 1461.17252402\n",
      "function evaluation: 1451.82341743\n",
      "function evaluation: 1437.19127327\n",
      "function evaluation: 1429.44582634\n",
      "function evaluation: 1414.62650937\n",
      "function evaluation: 1406.28003833\n",
      "function evaluation: 1397.96835226\n",
      "function evaluation: 1390.74543462\n",
      "function evaluation: 1377.13551075\n",
      "function evaluation: 1357.60049495\n",
      "function evaluation: 1341.53407217\n",
      "function evaluation: 1329.54399304\n",
      "function evaluation: 1321.47813901\n",
      "function evaluation: 1314.9066062\n",
      "function evaluation: 1310.14541436\n",
      "function evaluation: 1306.30980353\n",
      "function evaluation: 1299.60075043\n",
      "function evaluation: 1289.07644618\n",
      "function evaluation: 1278.43699569\n",
      "function evaluation: 1268.67798079\n",
      "function evaluation: 1260.98553185\n",
      "function evaluation: 1253.15101951\n",
      "function evaluation: 1246.08351565\n",
      "function evaluation: 1236.44512233\n",
      "function evaluation: 1226.99609469\n",
      "function evaluation: 1214.95006185\n",
      "function evaluation: 1201.91608161\n",
      "function evaluation: 1194.7212937\n",
      "function evaluation: 1188.12314479\n",
      "function evaluation: 1185.9339781\n",
      "function evaluation: 1180.33893115\n",
      "function evaluation: 1172.44915582\n",
      "function evaluation: 1161.95414271\n",
      "function evaluation: 1147.31202846\n",
      "function evaluation: 1135.45732256\n",
      "function evaluation: 1135.00103857\n",
      "function evaluation: 1127.27869634\n",
      "function evaluation: 1122.27527542\n",
      "function evaluation: 1116.389066\n",
      "function evaluation: 1104.31418042\n",
      "function evaluation: 1087.19389312\n",
      "function evaluation: 1071.26963111\n",
      "function evaluation: 1068.56155695\n",
      "function evaluation: 1055.50934675\n",
      "function evaluation: 1047.29955588\n",
      "function evaluation: 1038.65054814\n",
      "function evaluation: 1026.04435245\n",
      "function evaluation: 1022.99253204\n",
      "function evaluation: 1015.74244156\n",
      "function evaluation: 1027.75548304\n",
      "function evaluation: 1008.281372\n",
      "function evaluation: 993.874289957\n",
      "function evaluation: 976.440913758\n",
      "function evaluation: 965.047361818\n",
      "function evaluation: 955.368859779\n",
      "function evaluation: 948.47718145\n",
      "function evaluation: 943.062349127\n",
      "function evaluation: 938.961282479\n",
      "function evaluation: 933.906703251\n",
      "function evaluation: 925.831064971\n",
      "function evaluation: 921.963982149\n",
      "function evaluation: 918.772567437\n",
      "function evaluation: 915.773450797\n",
      "function evaluation: 911.040253965\n",
      "function evaluation: 897.888547938\n",
      "function evaluation: 880.177416845\n",
      "function evaluation: 860.856204742\n",
      "function evaluation: 841.009152457\n",
      "function evaluation: 827.480013482\n",
      "function evaluation: 819.224185171\n",
      "function evaluation: 814.644897467\n",
      "function evaluation: 812.377726885\n",
      "function evaluation: 808.909487032\n",
      "function evaluation: 805.570826219\n",
      "function evaluation: 800.078745885\n",
      "function evaluation: 790.42033292\n",
      "function evaluation: 787.603432741\n",
      "function evaluation: 783.337193017\n",
      "function evaluation: 783.020319972\n",
      "function evaluation: 781.124472694\n",
      "function evaluation: 779.898628278\n",
      "function evaluation: 778.507723164\n",
      "function evaluation: 771.829144743\n",
      "function evaluation: 761.274598612\n",
      "function evaluation: 749.355837815\n",
      "function evaluation: 743.60199968\n",
      "function evaluation: 739.604670035\n",
      "function evaluation: 737.977922335\n",
      "function evaluation: 737.066641609\n",
      "function evaluation: 736.051831256\n",
      "function evaluation: 733.75935529\n",
      "function evaluation: 727.606625428\n",
      "function evaluation: 718.480890131\n",
      "function evaluation: 714.325994346\n",
      "function evaluation: 709.848670445\n",
      "function evaluation: 706.975933116\n",
      "function evaluation: 704.554768716\n",
      "function evaluation: 702.421613603\n",
      "function evaluation: 698.373472897\n",
      "function evaluation: 689.999756109\n",
      "function evaluation: 670.477250749\n",
      "function evaluation: 673.422410167\n",
      "function evaluation: 663.544437767\n",
      "function evaluation: 666.697027889\n",
      "function evaluation: 649.66199203\n",
      "function evaluation: 642.012770401\n",
      "function evaluation: 635.151189802\n",
      "function evaluation: 633.585196633\n",
      "function evaluation: 626.132159745\n",
      "function evaluation: 627.114297205\n",
      "function evaluation: 619.73911991\n",
      "function evaluation: 615.331765778\n",
      "function evaluation: 609.452645177\n",
      "function evaluation: 608.199368871\n",
      "function evaluation: 607.676039874\n",
      "function evaluation: 603.953360182\n",
      "function evaluation: 604.923792356\n",
      "function evaluation: 602.29346555\n",
      "function evaluation: 599.142921558\n",
      "function evaluation: 594.653135618\n",
      "function evaluation: 583.964960446\n",
      "function evaluation: 574.873239043\n",
      "function evaluation: 567.940898977\n",
      "function evaluation: 561.276362699\n",
      "function evaluation: 558.175503488\n",
      "function evaluation: 554.354278142\n",
      "function evaluation: 552.988751475\n",
      "function evaluation: 550.511255615\n",
      "function evaluation: 548.614105323\n",
      "function evaluation: 545.05244168\n",
      "function evaluation: 540.275904965\n",
      "function evaluation: 537.964859325\n",
      "function evaluation: 536.349191426\n",
      "function evaluation: 534.968500896\n",
      "function evaluation: 533.295523583\n",
      "function evaluation: 532.045531713\n",
      "function evaluation: 530.767986439\n",
      "function evaluation: 528.97219665\n",
      "function evaluation: 524.985860082\n",
      "function evaluation: 521.931240056\n",
      "function evaluation: 518.811925593\n",
      "function evaluation: 516.921127519\n",
      "function evaluation: 516.328258645\n",
      "function evaluation: 515.660093433\n",
      "function evaluation: 515.208842778\n",
      "function evaluation: 514.177923619\n",
      "function evaluation: 509.074419421\n",
      "function evaluation: 505.976552035\n",
      "function evaluation: 504.174558641\n",
      "function evaluation: 502.091156724\n",
      "function evaluation: 502.928559242\n",
      "function evaluation: 502.03393254\n",
      "function evaluation: 501.985267789\n",
      "function evaluation: 501.614605732\n",
      "function evaluation: 500.976956724\n",
      "function evaluation: 499.443419382\n",
      "function evaluation: 493.03303521\n",
      "function evaluation: 489.04892808\n",
      "function evaluation: 486.007427539\n",
      "function evaluation: 484.289185836\n",
      "function evaluation: 484.026196778\n",
      "function evaluation: 482.659375734\n",
      "function evaluation: 481.901307727\n",
      "function evaluation: 480.788333359\n",
      "function evaluation: 477.769339929\n",
      "function evaluation: 472.07487333\n",
      "function evaluation: 468.989773627\n",
      "function evaluation: 466.107161228\n",
      "function evaluation: 465.652989494\n",
      "function evaluation: 465.26419715\n",
      "function evaluation: 465.861748026\n",
      "function evaluation: 465.301650714\n",
      "function evaluation: 465.267575649\n",
      "function evaluation: 465.264513538\n",
      "function evaluation: 465.264226884\n",
      "function evaluation: 465.264199945\n",
      "function evaluation: 465.264197412\n",
      "function evaluation: 465.264197174\n",
      "function evaluation: 465.264197152\n",
      "function evaluation: 465.26419715\n",
      "function evaluation: 465.26419715\n",
      "function evaluation: 465.26419715\n",
      "function evaluation: 465.26419715\n",
      "function evaluation: 465.26419715\n",
      "function evaluation: 465.26419715\n",
      "function evaluation: 465.26419715\n",
      "function evaluation: 465.26419715\n",
      "function evaluation: 465.26419715\n",
      "function evaluation: 465.26419715\n"
     ]
    }
   ],
   "source": [
    "def g(x):\n",
    "    res = like_tau(x) + prior(x)\n",
    "    print 'function evaluation: ' + str(res)\n",
    "    return res\n",
    "\n",
    "def g_deriv(x):\n",
    "    return like_tau_deriv(x) + prior_deriv(x)\n",
    "\n",
    "currentx = np.zeros(N)\n",
    "\n",
    "def cb(x):\n",
    "    #plt.plot(x_array, delta_x, 'b')\n",
    "    #plt.plot(x_array, x, 'g')\n",
    "    #plt.show()\n",
    "    currentx = x\n",
    "\n",
    "x0 = np.zeros(N)\n",
    "x_min, g_min, d_min = fmin_l_bfgs_b(g, x0, fprime = g_deriv, maxfun = 10000000, maxiter = 10000000, callback = cb, m = 100)"
   ]
  },
  {
   "cell_type": "code",
   "execution_count": 37,
   "metadata": {
    "collapsed": false
   },
   "outputs": [
    {
     "name": "stdout",
     "output_type": "stream",
     "text": [
      "g_min = 465.26419715\n",
      "n_iters = 335\n",
      "funcalls = 385\n"
     ]
    },
    {
     "data": {
      "text/plain": [
       "[<matplotlib.lines.Line2D at 0x10a8ab510>]"
      ]
     },
     "execution_count": 37,
     "metadata": {},
     "output_type": "execute_result"
    },
    {
     "data": {
      "image/png": "[encoded data removed]",
      "text/plain": [
       "<matplotlib.figure.Figure at 0x10a8abd10>"
      ]
     },
     "metadata": {},
     "output_type": "display_data"
    }
   ],
   "source": [
    "print \"g_min = \" + str(g_min)\n",
    "print 'n_iters = ' + str(d_min['nit'])\n",
    "print 'funcalls = ' + str(d_min['funcalls'])\n",
    "plt.plot(x_array, x_min, 'g')\n",
    "plt.plot(x_array, delta_x, 'b')"
   ]
  },
  {
   "cell_type": "code",
   "execution_count": 28,
   "metadata": {
    "collapsed": false
   },
   "outputs": [
    {
     "data": {
      "text/plain": [
       "[<matplotlib.lines.Line2D at 0x10c5d9510>]"
      ]
     },
     "execution_count": 28,
     "metadata": {},
     "output_type": "execute_result"
    },
    {
     "data": {
      "image/png": "[encoded data removed]",
      "text/plain": [
       "<matplotlib.figure.Figure at 0x10c593cd0>"
      ]
     },
     "metadata": {},
     "output_type": "display_data"
    }
   ],
   "source": [
    "x_nl_min = deltaNonLin(x_min)\n",
    "v_min = calculateV(x_nl_min)\n",
    "tau_min = calculateTau(x_nl_min, v_min)\n",
    "plt.plot(x_array, tau_min, 'g')\n",
    "plt.plot(x_array, tau, 'b')"
   ]
  },
  {
   "cell_type": "code",
   "execution_count": 29,
   "metadata": {
    "collapsed": false
   },
   "outputs": [
    {
     "data": {
      "text/plain": [
       "[<matplotlib.lines.Line2D at 0x10a915d50>]"
      ]
     },
     "execution_count": 29,
     "metadata": {},
     "output_type": "execute_result"
    },
    {
     "data": {
      "image/png": "[encoded data removed]",
      "text/plain": [
       "<matplotlib.figure.Figure at 0x10a96c7d0>"
      ]
     },
     "metadata": {},
     "output_type": "display_data"
    }
   ],
   "source": [
    "flux = np.exp(-tau)\n",
    "plt.plot(x_array, flux)"
   ]
  },
  {
   "cell_type": "code",
   "execution_count": 32,
   "metadata": {
    "collapsed": false
   },
   "outputs": [
    {
     "data": {
      "text/plain": [
       "[<matplotlib.lines.Line2D at 0x10a8d40d0>]"
      ]
     },
     "execution_count": 32,
     "metadata": {},
     "output_type": "execute_result"
    },
    {
     "data": {
      "image/png": "[encoded data removed]",
      "text/plain": [
       "<matplotlib.figure.Figure at 0x10a8d41d0>"
      ]
     },
     "metadata": {},
     "output_type": "display_data"
    }
   ],
   "source": [
    "sigma_flux = flux * 0.01\n",
    "noiseSeed = seed + 100\n",
    "np.random.seed(noiseSeed)\n",
    "flux_noisy = flux + 0 * np.random.randn(N) * sigma_flux\n",
    "plt.plot(x_array, flux, 'g')\n",
    "plt.plot(x_array, flux_noisy, 'b')"
   ]
  },
  {
   "cell_type": "code",
   "execution_count": 33,
   "metadata": {
    "collapsed": false
   },
   "outputs": [
    {
     "name": "stdout",
     "output_type": "stream",
     "text": [
      "Like deriv problem for 0 expected 69.8484552201 got 0.0\n",
      "Like deriv problem for 1 expected 74.1620766784 got 0.0\n",
      "Like deriv problem for 2 expected 67.9289176277 got 0.0\n",
      "Like deriv problem for 3 expected 73.4030946129 got 0.0\n",
      "Like deriv problem for 4 expected 54.9187976525 got 0.0\n",
      "Like deriv problem for 5 expected 66.8255437771 got 0.0\n",
      "Like deriv problem for 6 expected 59.9479543316 got 0.0\n",
      "Like deriv problem for 7 expected 78.6938545225 got 0.0\n",
      "Like deriv problem for 8 expected 59.5086158034 got 0.0\n",
      "Like deriv problem for 9 expected 84.1824249543 got 0.0\n",
      "Like deriv problem for 10 expected 56.6714110672 got 0.0\n",
      "Like deriv problem for 11 expected 75.8065255086 got 0.0\n",
      "Like deriv problem for 12 expected 51.2640169878 got 0.0\n",
      "Like deriv problem for 13 expected 67.2532263909 got 0.0\n",
      "Like deriv problem for 14 expected 53.8135495688 got 0.0\n",
      "Like deriv problem for 15 expected 56.3072286834 got 0.0\n",
      "Like deriv problem for 16 expected 45.2752160019 got 0.0\n",
      "Like deriv problem for 17 expected 46.97369385 got 0.0\n",
      "Like deriv problem for 18 expected 38.700338156 got 0.0\n",
      "Like deriv problem for 19 expected 38.5210849117 got 0.0\n",
      "Like deriv problem for 20 expected 29.7356765745 got 0.0\n",
      "Like deriv problem for 21 expected 30.8546997198 got 0.0\n",
      "Like deriv problem for 22 expected 25.4735919647 got 0.0\n",
      "Like deriv problem for 23 expected 24.1483726482 got 0.0\n",
      "Like deriv problem for 24 expected 21.4155450356 got 0.0\n",
      "Like deriv problem for 25 expected 19.1829332853 got 0.0\n",
      "Like deriv problem for 26 expected 16.2548839441 got 0.0\n",
      "Like deriv problem for 27 expected 17.1648941524 got 0.0\n",
      "Like deriv problem for 28 expected 14.6444720087 got 0.0\n",
      "Like deriv problem for 29 expected 14.5326225389 got 0.0\n",
      "Like deriv problem for 30 expected 13.4550320964 got 0.0\n",
      "Like deriv problem for 31 expected 12.4275138965 got 0.0\n",
      "Like deriv problem for 32 expected 10.4539612447 got 0.0\n",
      "Like deriv problem for 33 expected 9.99771186621 got 0.0\n",
      "Like deriv problem for 34 expected 10.3713200511 got 0.0\n",
      "Like deriv problem for 35 expected 10.9139815062 got 0.0\n",
      "Like deriv problem for 36 expected 11.3524977088 got 0.0\n",
      "Like deriv problem for 37 expected 11.1267182551 got 0.0\n",
      "Like deriv problem for 38 expected 10.2431045804 got 0.0\n",
      "Like deriv problem for 39 expected 9.31282812982 got 0.0\n",
      "Like deriv problem for 40 expected 8.39935654042 got 0.0\n",
      "Like deriv problem for 41 expected 8.19531437424 got 0.0\n",
      "Like deriv problem for 42 expected 7.98471323679 got 0.0\n",
      "Like deriv problem for 43 expected 7.33753575706 got 0.0\n",
      "Like deriv problem for 44 expected 7.13775855294 got 0.0\n",
      "Like deriv problem for 45 expected 7.22513192807 got 0.0\n",
      "Like deriv problem for 46 expected 7.12852842897 got 0.0\n",
      "Like deriv problem for 47 expected 6.63333050268 got 0.0\n",
      "Like deriv problem for 48 expected 6.8483271165 got 0.0\n",
      "Like deriv problem for 49 expected 6.20591970606 got 0.0\n",
      "Like deriv problem for 50 expected 6.46912942155 got 0.0\n",
      "Like deriv problem for 51 expected 5.8602966702 got 0.0\n",
      "Like deriv problem for 52 expected 5.65262540663 got 0.0\n",
      "Like deriv problem for 53 expected 5.38866769936 got 0.0\n",
      "Like deriv problem for 54 expected 4.88192107716 got 0.0\n",
      "Like deriv problem for 55 expected 4.29253961084 got 0.0\n",
      "Like deriv problem for 56 expected 4.03995198209 got 0.0\n",
      "Like deriv problem for 57 expected 4.3226996576 got 0.0\n",
      "Like deriv problem for 58 expected 4.22533604468 got 0.0\n",
      "Like deriv problem for 59 expected 3.9583123285 got 0.0\n",
      "Like deriv problem for 60 expected 3.78881324385 got 0.0\n",
      "Like deriv problem for 61 expected 3.51419402577 got 0.0\n",
      "Like deriv problem for 62 expected 3.231070266 got 0.0\n",
      "Like deriv problem for 63 expected 2.84768029625 got 0.0\n",
      "Like deriv problem for 64 expected 2.59290608371 got 0.0\n",
      "Like deriv problem for 65 expected 2.14389283006 got 0.0\n",
      "Like deriv problem for 66 expected 2.0171114394 got 0.0\n",
      "Like deriv problem for 67 expected 1.78504831469 got 0.0\n",
      "Like deriv problem for 68 expected 1.78088107933 got 0.0\n",
      "Like deriv problem for 69 expected 1.71141281782 got 0.0\n",
      "Like deriv problem for 70 expected 1.80805276061 got 0.0\n",
      "Like deriv problem for 71 expected 1.78805207694 got 0.0\n",
      "Like deriv problem for 72 expected 1.89519512274 got 0.0\n",
      "Like deriv problem for 73 expected 1.83940697926 got 0.0\n",
      "Like deriv problem for 74 expected 1.95820434109 got 0.0\n",
      "Like deriv problem for 75 expected 2.00864752901 got 0.0\n",
      "Like deriv problem for 76 expected 2.21134292881 got 0.0\n",
      "Like deriv problem for 77 expected 2.13907563605 got 0.0\n",
      "Like deriv problem for 78 expected 2.05370091265 got 0.0\n",
      "Like deriv problem for 79 expected 2.04870020338 got 0.0\n",
      "Like deriv problem for 80 expected 1.93125658466 got 0.0\n",
      "Like deriv problem for 81 expected 1.88107048492 got 0.0\n",
      "Like deriv problem for 82 expected 2.01348224698 got 0.0\n",
      "Like deriv problem for 83 expected 2.2135027458 got 0.0\n",
      "Like deriv problem for 84 expected 2.47173771491 got 0.0\n",
      "Like deriv problem for 85 expected 2.87171903325 got 0.0\n",
      "Like deriv problem for 86 expected 3.36786487759 got 0.0\n",
      "Like deriv problem for 87 expected 3.6428741647 got 0.0\n",
      "Like deriv problem for 88 expected 4.02199614001 got 0.0\n",
      "Like deriv problem for 89 expected 4.57784015639 got 0.0\n",
      "Like deriv problem for 90 expected 4.74665908532 got 0.0\n",
      "Like deriv problem for 91 expected 4.90995228108 got 0.0\n",
      "Like deriv problem for 92 expected 5.48544921106 got 0.0\n",
      "Like deriv problem for 93 expected 6.16298272509 got 0.0\n",
      "Like deriv problem for 94 expected 6.81446573302 got 0.0\n",
      "Like deriv problem for 95 expected 7.33944068251 got 0.0\n",
      "Like deriv problem for 96 expected 7.18618674326 got 0.0\n",
      "Like deriv problem for 97 expected 8.11925105255 got 0.0\n",
      "Like deriv problem for 98 expected 8.97004721473 got 0.0\n",
      "Like deriv problem for 99 expected 9.93030102773 got 0.0\n",
      "Like deriv problem for 100 expected 10.5481055406 got 0.0\n",
      "Like deriv problem for 101 expected 11.2602071631 got 0.0\n",
      "Like deriv problem for 102 expected 11.8798210715 got 0.0\n",
      "Like deriv problem for 103 expected 12.9901993785 got 0.0\n",
      "Like deriv problem for 104 expected 15.3672540885 got 0.0\n",
      "Like deriv problem for 105 expected 16.0918091524 got 0.0\n",
      "Like deriv problem for 106 expected 17.2440204977 got 0.0\n",
      "Like deriv problem for 107 expected 16.8545572446 got 0.0\n",
      "Like deriv problem for 108 expected 18.8335525514 got 0.0\n",
      "Like deriv problem for 109 expected 19.9372465756 got 0.0\n",
      "Like deriv problem for 110 expected 21.491880881 got 0.0\n",
      "Like deriv problem for 111 expected 23.2486227303 got 0.0\n",
      "Like deriv problem for 112 expected 25.8349082961 got 0.0\n",
      "Like deriv problem for 113 expected 27.0653791511 got 0.0\n",
      "Like deriv problem for 114 expected 32.8951591987 got 0.0\n",
      "Like deriv problem for 115 expected 36.0751228112 got 0.0\n",
      "Like deriv problem for 116 expected 40.1862300368 got 0.0\n",
      "Like deriv problem for 117 expected 41.9487393396 got 0.0\n",
      "Like deriv problem for 118 expected 45.7144955636 got 0.0\n",
      "Like deriv problem for 119 expected 42.9552105359 got 0.0\n",
      "Like deriv problem for 120 expected 49.4641916247 got 0.0\n",
      "Like deriv problem for 121 expected 53.1871189266 got 0.0\n",
      "Like deriv problem for 122 expected 60.6304264727 got 0.0\n",
      "Like deriv problem for 123 expected 58.8835851254 got 0.0\n",
      "Like deriv problem for 124 expected 69.8913774014 got 0.0\n",
      "Like deriv problem for 125 expected 58.5474701982 got 0.0\n",
      "Like deriv problem for 126 expected 75.620174206 got 0.0\n",
      "Like deriv problem for 127 expected 57.5995004763 got 0.0\n"
     ]
    }
   ],
   "source": [
    "def like_flux(x):\n",
    "    my_delta_nl = deltaNonLin(x)\n",
    "    my_v = calculateV(my_delta_nl)\n",
    "    my_tau = calculateTau(my_delta_nl, my_v)\n",
    "    my_flux = np.exp(-my_tau)\n",
    "    diff = my_flux - flux_noisy\n",
    "    return np.sum(diff**2/sigma_flux**2)\n",
    "\n",
    "def like_flux_deriv(x):\n",
    "    my_delta_nl = deltaNonLin(x)\n",
    "    my_v = calculateV(my_delta_nl)\n",
    "    my_tau = calculateTau(my_delta_nl, my_v)\n",
    "    my_flux = np.exp(-my_tau)\n",
    "    diff = my_flux - flux_noisy\n",
    "    res = np.zeros(N)\n",
    "    tau_derivs = get_tau_derivs(x, my_delta_nl, my_v)\n",
    "    for i in np.arange(N):\n",
    "        for j in np.arange(N):\n",
    "            res[i] += 2 * diff[j] / sigma_flux[j]**2 * (-my_flux[j]) * tau_derivs[j][i]\n",
    "    \n",
    "    return res\n",
    "\n",
    "def test_like_flux_derivs():\n",
    "    epsilon = 0.00001\n",
    "    my_like = like_flux(delta_x)\n",
    "    my_like_deriv = like_flux_deriv(delta_x)\n",
    "    for i in np.arange(N):\n",
    "        x = delta_x.copy()\n",
    "        x[i] += epsilon\n",
    "        new_like = like_flux(x)\n",
    "        like_deriv = (new_like - my_like) / epsilon\n",
    "        if (abs(my_like_deriv[i]) < 1e-7 and abs(like_deriv) > 1e-7) or (abs(like_deriv) < 1e-7 and abs(my_like_deriv[i]) > 1e-7) or (abs(like_deriv) > 1e-7 and abs(my_like_deriv[i]) > 1e-7 and abs((like_deriv - my_like_deriv[i]) / my_like_deriv[i]) > 1e-1):\n",
    "            print 'Like deriv problem for ' + str(i) + ' expected ' + str(like_deriv) + ' got ' + str(my_like_deriv[i])\n",
    "\n",
    "test_like_flux_derivs()"
   ]
  },
  {
   "cell_type": "code",
   "execution_count": 35,
   "metadata": {
    "collapsed": false
   },
   "outputs": [
    {
     "name": "stdout",
     "output_type": "stream",
     "text": [
      "function evaluation: 356313.23028\n",
      "function evaluation: 799136.038181\n",
      "function evaluation: 418799.819392\n",
      "function evaluation: 331269.591998\n",
      "function evaluation: 321433.651989\n",
      "function evaluation: 320531.923377\n",
      "function evaluation: 419054.327517\n",
      "function evaluation: 319733.598535\n",
      "function evaluation: 298806.357716\n",
      "function evaluation: 251565.112142\n",
      "function evaluation: 183038.073441\n",
      "function evaluation: 181216.92302\n",
      "function evaluation: 160848.840503\n",
      "function evaluation: 150953.383676\n",
      "function evaluation: 147424.939054\n"
     ]
    },
    {
     "ename": "KeyboardInterrupt",
     "evalue": "",
     "output_type": "error",
     "traceback": [
      "\u001b[0;31m---------------------------------------------------------------------------\u001b[0m",
      "\u001b[0;31mKeyboardInterrupt\u001b[0m                         Traceback (most recent call last)",
      "\u001b[0;32m<ipython-input-35-81cea7eff8fb>\u001b[0m in \u001b[0;36m<module>\u001b[0;34m()\u001b[0m\n\u001b[1;32m     17\u001b[0m \u001b[0;34m\u001b[0m\u001b[0m\n\u001b[1;32m     18\u001b[0m \u001b[0mx0\u001b[0m \u001b[0;34m=\u001b[0m \u001b[0mnp\u001b[0m\u001b[0;34m.\u001b[0m\u001b[0mzeros\u001b[0m\u001b[0;34m(\u001b[0m\u001b[0mN\u001b[0m\u001b[0;34m)\u001b[0m\u001b[0;34m\u001b[0m\u001b[0m\n\u001b[0;32m---> 19\u001b[0;31m \u001b[0mx_min\u001b[0m\u001b[0;34m,\u001b[0m \u001b[0mh_min\u001b[0m\u001b[0;34m,\u001b[0m \u001b[0md_min\u001b[0m \u001b[0;34m=\u001b[0m \u001b[0mfmin_l_bfgs_b\u001b[0m\u001b[0;34m(\u001b[0m\u001b[0mh\u001b[0m\u001b[0;34m,\u001b[0m \u001b[0mx0\u001b[0m\u001b[0;34m,\u001b[0m \u001b[0mfprime\u001b[0m \u001b[0;34m=\u001b[0m \u001b[0mh_deriv\u001b[0m\u001b[0;34m,\u001b[0m \u001b[0mmaxfun\u001b[0m \u001b[0;34m=\u001b[0m \u001b[0;36m10000000\u001b[0m\u001b[0;34m,\u001b[0m \u001b[0mmaxiter\u001b[0m \u001b[0;34m=\u001b[0m \u001b[0;36m10000000\u001b[0m\u001b[0;34m,\u001b[0m \u001b[0mcallback\u001b[0m \u001b[0;34m=\u001b[0m \u001b[0mcb\u001b[0m\u001b[0;34m,\u001b[0m \u001b[0mm\u001b[0m \u001b[0;34m=\u001b[0m \u001b[0;36m100\u001b[0m\u001b[0;34m)\u001b[0m\u001b[0;34m\u001b[0m\u001b[0m\n\u001b[0m",
      "\u001b[0;32m//anaconda/lib/python2.7/site-packages/scipy/optimize/lbfgsb.pyc\u001b[0m in \u001b[0;36mfmin_l_bfgs_b\u001b[0;34m(func, x0, fprime, args, approx_grad, bounds, m, factr, pgtol, epsilon, iprint, maxfun, maxiter, disp, callback)\u001b[0m\n\u001b[1;32m    186\u001b[0m \u001b[0;34m\u001b[0m\u001b[0m\n\u001b[1;32m    187\u001b[0m     res = _minimize_lbfgsb(fun, x0, args=args, jac=jac, bounds=bounds,\n\u001b[0;32m--> 188\u001b[0;31m                            **opts)\n\u001b[0m\u001b[1;32m    189\u001b[0m     d = {'grad': res['jac'],\n\u001b[1;32m    190\u001b[0m          \u001b[0;34m'task'\u001b[0m\u001b[0;34m:\u001b[0m \u001b[0mres\u001b[0m\u001b[0;34m[\u001b[0m\u001b[0;34m'message'\u001b[0m\u001b[0;34m]\u001b[0m\u001b[0;34m,\u001b[0m\u001b[0;34m\u001b[0m\u001b[0m\n",
      "\u001b[0;32m//anaconda/lib/python2.7/site-packages/scipy/optimize/lbfgsb.pyc\u001b[0m in \u001b[0;36m_minimize_lbfgsb\u001b[0;34m(fun, x0, args, jac, bounds, disp, maxcor, ftol, gtol, eps, maxfun, maxiter, iprint, callback, **unknown_options)\u001b[0m\n\u001b[1;32m    318\u001b[0m                 \u001b[0;31m# minimization routine wants f and g at the current x\u001b[0m\u001b[0;34m\u001b[0m\u001b[0;34m\u001b[0m\u001b[0m\n\u001b[1;32m    319\u001b[0m                 \u001b[0;31m# Overwrite f and g:\u001b[0m\u001b[0;34m\u001b[0m\u001b[0;34m\u001b[0m\u001b[0m\n\u001b[0;32m--> 320\u001b[0;31m                 \u001b[0mf\u001b[0m\u001b[0;34m,\u001b[0m \u001b[0mg\u001b[0m \u001b[0;34m=\u001b[0m \u001b[0mfunc_and_grad\u001b[0m\u001b[0;34m(\u001b[0m\u001b[0mx\u001b[0m\u001b[0;34m)\u001b[0m\u001b[0;34m\u001b[0m\u001b[0m\n\u001b[0m\u001b[1;32m    321\u001b[0m         \u001b[0;32melif\u001b[0m \u001b[0mtask_str\u001b[0m\u001b[0;34m.\u001b[0m\u001b[0mstartswith\u001b[0m\u001b[0;34m(\u001b[0m\u001b[0;34mb'NEW_X'\u001b[0m\u001b[0;34m)\u001b[0m\u001b[0;34m:\u001b[0m\u001b[0;34m\u001b[0m\u001b[0m\n\u001b[1;32m    322\u001b[0m             \u001b[0;31m# new iteration\u001b[0m\u001b[0;34m\u001b[0m\u001b[0;34m\u001b[0m\u001b[0m\n",
      "\u001b[0;32m//anaconda/lib/python2.7/site-packages/scipy/optimize/lbfgsb.pyc\u001b[0m in \u001b[0;36mfunc_and_grad\u001b[0;34m(x)\u001b[0m\n\u001b[1;32m    270\u001b[0m         \u001b[0;32mdef\u001b[0m \u001b[0mfunc_and_grad\u001b[0m\u001b[0;34m(\u001b[0m\u001b[0mx\u001b[0m\u001b[0;34m)\u001b[0m\u001b[0;34m:\u001b[0m\u001b[0;34m\u001b[0m\u001b[0m\n\u001b[1;32m    271\u001b[0m             \u001b[0mf\u001b[0m \u001b[0;34m=\u001b[0m \u001b[0mfun\u001b[0m\u001b[0;34m(\u001b[0m\u001b[0mx\u001b[0m\u001b[0;34m,\u001b[0m \u001b[0;34m*\u001b[0m\u001b[0margs\u001b[0m\u001b[0;34m)\u001b[0m\u001b[0;34m\u001b[0m\u001b[0m\n\u001b[0;32m--> 272\u001b[0;31m             \u001b[0mg\u001b[0m \u001b[0;34m=\u001b[0m \u001b[0mjac\u001b[0m\u001b[0;34m(\u001b[0m\u001b[0mx\u001b[0m\u001b[0;34m,\u001b[0m \u001b[0;34m*\u001b[0m\u001b[0margs\u001b[0m\u001b[0;34m)\u001b[0m\u001b[0;34m\u001b[0m\u001b[0m\n\u001b[0m\u001b[1;32m    273\u001b[0m             \u001b[0;32mreturn\u001b[0m \u001b[0mf\u001b[0m\u001b[0;34m,\u001b[0m \u001b[0mg\u001b[0m\u001b[0;34m\u001b[0m\u001b[0m\n\u001b[1;32m    274\u001b[0m \u001b[0;34m\u001b[0m\u001b[0m\n",
      "\u001b[0;32m<ipython-input-35-81cea7eff8fb>\u001b[0m in \u001b[0;36mh_deriv\u001b[0;34m(x)\u001b[0m\n\u001b[1;32m      6\u001b[0m \u001b[0;34m\u001b[0m\u001b[0m\n\u001b[1;32m      7\u001b[0m \u001b[0;32mdef\u001b[0m \u001b[0mh_deriv\u001b[0m\u001b[0;34m(\u001b[0m\u001b[0mx\u001b[0m\u001b[0;34m)\u001b[0m\u001b[0;34m:\u001b[0m\u001b[0;34m\u001b[0m\u001b[0m\n\u001b[0;32m----> 8\u001b[0;31m     \u001b[0;32mreturn\u001b[0m \u001b[0mlike_flux_deriv\u001b[0m\u001b[0;34m(\u001b[0m\u001b[0mx\u001b[0m\u001b[0;34m)\u001b[0m \u001b[0;34m+\u001b[0m \u001b[0mprior_deriv\u001b[0m\u001b[0;34m(\u001b[0m\u001b[0mx\u001b[0m\u001b[0;34m)\u001b[0m\u001b[0;34m\u001b[0m\u001b[0m\n\u001b[0m\u001b[1;32m      9\u001b[0m \u001b[0;34m\u001b[0m\u001b[0m\n\u001b[1;32m     10\u001b[0m \u001b[0mcurrentx\u001b[0m \u001b[0;34m=\u001b[0m \u001b[0mnp\u001b[0m\u001b[0;34m.\u001b[0m\u001b[0mzeros\u001b[0m\u001b[0;34m(\u001b[0m\u001b[0mN\u001b[0m\u001b[0;34m)\u001b[0m\u001b[0;34m\u001b[0m\u001b[0m\n",
      "\u001b[0;32m<ipython-input-33-a97419bbaafc>\u001b[0m in \u001b[0;36mlike_flux_deriv\u001b[0;34m(x)\u001b[0m\n\u001b[1;32m     14\u001b[0m     \u001b[0mdiff\u001b[0m \u001b[0;34m=\u001b[0m \u001b[0mmy_flux\u001b[0m \u001b[0;34m-\u001b[0m \u001b[0mflux_noisy\u001b[0m\u001b[0;34m\u001b[0m\u001b[0m\n\u001b[1;32m     15\u001b[0m     \u001b[0mres\u001b[0m \u001b[0;34m=\u001b[0m \u001b[0mnp\u001b[0m\u001b[0;34m.\u001b[0m\u001b[0mzeros\u001b[0m\u001b[0;34m(\u001b[0m\u001b[0mN\u001b[0m\u001b[0;34m)\u001b[0m\u001b[0;34m\u001b[0m\u001b[0m\n\u001b[0;32m---> 16\u001b[0;31m     \u001b[0mtau_derivs\u001b[0m \u001b[0;34m=\u001b[0m \u001b[0mget_tau_derivs\u001b[0m\u001b[0;34m(\u001b[0m\u001b[0mx\u001b[0m\u001b[0;34m,\u001b[0m \u001b[0mmy_delta_nl\u001b[0m\u001b[0;34m,\u001b[0m \u001b[0mmy_v\u001b[0m\u001b[0;34m)\u001b[0m\u001b[0;34m\u001b[0m\u001b[0m\n\u001b[0m\u001b[1;32m     17\u001b[0m     \u001b[0;32mfor\u001b[0m \u001b[0mi\u001b[0m \u001b[0;32min\u001b[0m \u001b[0mnp\u001b[0m\u001b[0;34m.\u001b[0m\u001b[0marange\u001b[0m\u001b[0;34m(\u001b[0m\u001b[0mN\u001b[0m\u001b[0;34m)\u001b[0m\u001b[0;34m:\u001b[0m\u001b[0;34m\u001b[0m\u001b[0m\n\u001b[1;32m     18\u001b[0m         \u001b[0;32mfor\u001b[0m \u001b[0mj\u001b[0m \u001b[0;32min\u001b[0m \u001b[0mnp\u001b[0m\u001b[0;34m.\u001b[0m\u001b[0marange\u001b[0m\u001b[0;34m(\u001b[0m\u001b[0mN\u001b[0m\u001b[0;34m)\u001b[0m\u001b[0;34m:\u001b[0m\u001b[0;34m\u001b[0m\u001b[0m\n",
      "\u001b[0;32m<ipython-input-11-931bff8af9c7>\u001b[0m in \u001b[0;36mget_tau_derivs\u001b[0;34m(delta, d_nl, v)\u001b[0m\n\u001b[1;32m    112\u001b[0m             \u001b[0;32mfor\u001b[0m \u001b[0mm\u001b[0m \u001b[0;32min\u001b[0m \u001b[0mnp\u001b[0m\u001b[0;34m.\u001b[0m\u001b[0marange\u001b[0m\u001b[0;34m(\u001b[0m\u001b[0mm_1\u001b[0m\u001b[0;34m,\u001b[0m \u001b[0mm_2\u001b[0m \u001b[0;34m+\u001b[0m \u001b[0;36m1\u001b[0m\u001b[0;34m)\u001b[0m\u001b[0;34m:\u001b[0m\u001b[0;34m\u001b[0m\u001b[0m\n\u001b[1;32m    113\u001b[0m                 \u001b[0mm_shifted\u001b[0m \u001b[0;34m=\u001b[0m \u001b[0mbringIndexToRange\u001b[0m\u001b[0;34m(\u001b[0m\u001b[0mm\u001b[0m\u001b[0;34m)\u001b[0m\u001b[0;34m\u001b[0m\u001b[0m\n\u001b[0;32m--> 114\u001b[0;31m                 \u001b[0mu\u001b[0m \u001b[0;34m=\u001b[0m \u001b[0mm\u001b[0m \u001b[0;34m*\u001b[0m \u001b[0mL\u001b[0m \u001b[0;34m/\u001b[0m \u001b[0mN\u001b[0m\u001b[0;34m\u001b[0m\u001b[0m\n\u001b[0m\u001b[1;32m    115\u001b[0m                 \u001b[0md\u001b[0m \u001b[0;34m=\u001b[0m \u001b[0mu\u001b[0m \u001b[0;34m-\u001b[0m \u001b[0mxv\u001b[0m\u001b[0;34m\u001b[0m\u001b[0m\n\u001b[1;32m    116\u001b[0m                 \u001b[0mres\u001b[0m\u001b[0;34m[\u001b[0m\u001b[0mm_shifted\u001b[0m\u001b[0;34m]\u001b[0m\u001b[0;34m[\u001b[0m\u001b[0mn\u001b[0m\u001b[0;34m]\u001b[0m \u001b[0;34m+=\u001b[0m \u001b[0;36m2\u001b[0m \u001b[0;34m*\u001b[0m \u001b[0mrho\u001b[0m\u001b[0;34m[\u001b[0m\u001b[0mi\u001b[0m\u001b[0;34m]\u001b[0m\u001b[0;34m**\u001b[0m\u001b[0;36m2\u001b[0m \u001b[0;34m*\u001b[0m \u001b[0mnp\u001b[0m\u001b[0;34m.\u001b[0m\u001b[0mexp\u001b[0m\u001b[0;34m(\u001b[0m\u001b[0;34m-\u001b[0m\u001b[0md\u001b[0m\u001b[0;34m**\u001b[0m\u001b[0;36m2\u001b[0m\u001b[0;34m/\u001b[0m\u001b[0mb\u001b[0m\u001b[0;34m**\u001b[0m\u001b[0;36m2\u001b[0m\u001b[0;34m)\u001b[0m\u001b[0;34m*\u001b[0m\u001b[0md\u001b[0m\u001b[0;34m/\u001b[0m\u001b[0mb\u001b[0m\u001b[0;34m**\u001b[0m\u001b[0;36m2\u001b[0m \u001b[0;34m*\u001b[0m \u001b[0mget_v_deriv\u001b[0m\u001b[0;34m(\u001b[0m\u001b[0mi\u001b[0m\u001b[0;34m,\u001b[0m \u001b[0mn\u001b[0m\u001b[0;34m,\u001b[0m \u001b[0mdelta\u001b[0m\u001b[0;34m)\u001b[0m\u001b[0;34m\u001b[0m\u001b[0m\n",
      "\u001b[0;31mKeyboardInterrupt\u001b[0m: "
     ]
    }
   ],
   "source": [
    "def h(x):\n",
    "    #print x\n",
    "    res = like_flux(x) + prior(x)\n",
    "    print 'function evaluation: ' + str(res)\n",
    "    return res\n",
    "\n",
    "def h_deriv(x):\n",
    "    return like_flux_deriv(x) + prior_deriv(x)\n",
    "\n",
    "currentx = np.zeros(N)\n",
    "\n",
    "def cb(x):\n",
    "    #plt.plot(x_array, delta_x, 'b')\n",
    "    #plt.plot(x_array, x, 'g')\n",
    "    #plt.show()\n",
    "    currentx = x\n",
    "\n",
    "x0 = np.zeros(N)\n",
    "x_min, h_min, d_min = fmin_l_bfgs_b(h, x0, fprime = h_deriv, maxfun = 10000000, maxiter = 10000000, callback = cb, m = 100)"
   ]
  },
  {
   "cell_type": "code",
   "execution_count": 78,
   "metadata": {
    "collapsed": false
   },
   "outputs": [
    {
     "data": {
      "text/plain": [
       "[<matplotlib.lines.Line2D at 0x10aedfd90>]"
      ]
     },
     "execution_count": 78,
     "metadata": {},
     "output_type": "execute_result"
    },
    {
     "data": {
      "image/png": "[encoded data removed]",
      "text/plain": [
       "<matplotlib.figure.Figure at 0x10aedfd10>"
      ]
     },
     "metadata": {},
     "output_type": "display_data"
    }
   ],
   "source": [
    "#print \"h_min = \" + str(h_min)\n",
    "#print 'n_iters = ' + str(d_min['nit'])\n",
    "#print 'funcalls = ' + str(d_min['funcalls'])\n",
    "plt.plot(x_array, currentx, 'g')\n",
    "plt.plot(x_array, delta_x, 'b')"
   ]
  },
  {
   "cell_type": "code",
   "execution_count": 76,
   "metadata": {
    "collapsed": false
   },
   "outputs": [
    {
     "data": {
      "text/plain": [
       "array([ -326.79395279,  -324.6231889 ,  -344.34652581,  -435.4925986 ,\n",
       "        -552.33823402,  -611.68626111,  -759.83993562,  -722.87254067,\n",
       "        -824.7931623 , -1079.36829991, -1345.49157553, -1271.75484839,\n",
       "       -1265.29716784, -1061.89679364, -1008.87738674,  -946.82482896,\n",
       "       -1102.79779135,  -723.82723182,  -204.40017349,  -211.18313044,\n",
       "          34.28555118,    -7.54082457,    43.36653889,    27.75443394,\n",
       "          70.73338401,    54.3744926 ,    71.03127088,    30.50893621,\n",
       "         164.51676373,   162.69423491,   176.16934907,   140.19367663,\n",
       "          56.10357499,   -39.2419523 ,    10.37925704,    -6.51134771,\n",
       "        -280.28705838,  -562.89784435,  -219.43709521,  -429.87072892,\n",
       "        -271.68459797,  -442.87618763,    96.88792082,   384.01469694,\n",
       "         434.70503553,   428.97782084,   635.04844634,    68.74228515,\n",
       "        -171.12592676,   -58.63814532,  -273.53380353,  -233.81935276,\n",
       "        -203.46759113,  -271.6338961 ,  -143.20866387,  -141.95624825,\n",
       "          41.31291447,  -337.4995831 ,  -441.06156151,  -119.82847614,\n",
       "        -184.90574021,   -72.03667641,  -251.38355809,  -144.8507849 ,\n",
       "         132.60943221,    61.14728133,   -61.84068643,   111.05111931,\n",
       "          83.71611263,   126.51523011,   159.33815714,   134.34134141,\n",
       "         112.57113768,   182.39736045,   202.4674643 ,   190.50709936,\n",
       "         253.06432478,   236.10537548,   386.26528322,   369.70284634,\n",
       "         391.60810776,   425.06787637,   332.9925663 ,   385.67323968,\n",
       "         369.02109342,   357.59810699,   410.96873013,   321.45612493,\n",
       "         420.26399976,   414.6898352 ,   391.32695623,   418.3051936 ,\n",
       "         395.48682723,   461.41024767,   443.16548586,   619.32242698,\n",
       "         678.17719043,   708.24434606,   717.02083983,   713.53558017,\n",
       "         691.09269718,   770.61870068,   660.03979001,   524.62592096,\n",
       "         409.51294235,   489.7586562 ,   516.14374644,   487.93230882,\n",
       "         401.66436145,   442.73627128,   486.23503449,   333.56046226,\n",
       "         -81.70397274,    18.0814729 ,   -25.88532212,    42.80101425,\n",
       "        -778.37984702, -1401.29469578,  -696.61238269,  -437.02880086,\n",
       "        -253.3801104 ,   205.30857736,   414.80120595,   283.04017842,\n",
       "         200.7016147 ,   376.17202429,   -59.22562258,  -334.18786119])"
      ]
     },
     "execution_count": 76,
     "metadata": {},
     "output_type": "execute_result"
    }
   ],
   "source": [
    "h_deriv(x_min)"
   ]
  },
  {
   "cell_type": "code",
   "execution_count": null,
   "metadata": {
    "collapsed": true
   },
   "outputs": [],
   "source": []
  }
 ],
 "metadata": {
  "kernelspec": {
   "display_name": "Python 2",
   "language": "python",
   "name": "python2"
  },
  "language_info": {
   "codemirror_mode": {
    "name": "ipython",
    "version": 2
   },
   "file_extension": ".py",
   "mimetype": "text/x-python",
   "name": "python",
   "nbconvert_exporter": "python",
   "pygments_lexer": "ipython2",
   "version": "2.7.11"
  }
 },
 "nbformat": 4,
 "nbformat_minor": 0
}
